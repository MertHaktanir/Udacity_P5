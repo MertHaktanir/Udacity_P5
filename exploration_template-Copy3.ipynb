{
 "cells": [
  {
   "cell_type": "markdown",
   "metadata": {},
   "source": [
    "# Loan Data from Prosper\n",
    "## by Mert Haktanır\n",
    "\n",
    "## Preliminary Wrangling\n",
    "\n",
    "> Loan Dataset contains 113,937 loans with 81 variables on each loan, including loan amount, borrower rate (or interest rate),\n",
    "current loan status, borrower income, and many others."
   ]
  },
  {
   "cell_type": "code",
   "execution_count": 1,
   "metadata": {
    "collapsed": true
   },
   "outputs": [],
   "source": [
    "# import all packages and set plots to be embedded inline\n",
    "import numpy as np\n",
    "import pandas as pd\n",
    "import matplotlib.pyplot as plt\n",
    "import seaborn as sb\n",
    "\n",
    "%matplotlib inline"
   ]
  },
  {
   "cell_type": "code",
   "execution_count": 2,
   "metadata": {
    "collapsed": true
   },
   "outputs": [],
   "source": [
    "#### Lets load the dataset\n",
    "LoanData = pd.read_csv('prosperLoanData.csv')"
   ]
  },
  {
   "cell_type": "code",
   "execution_count": 3,
   "metadata": {},
   "outputs": [
    {
     "data": {
      "text/html": [
       "<div>\n",
       "<style>\n",
       "    .dataframe thead tr:only-child th {\n",
       "        text-align: right;\n",
       "    }\n",
       "\n",
       "    .dataframe thead th {\n",
       "        text-align: left;\n",
       "    }\n",
       "\n",
       "    .dataframe tbody tr th {\n",
       "        vertical-align: top;\n",
       "    }\n",
       "</style>\n",
       "<table border=\"1\" class=\"dataframe\">\n",
       "  <thead>\n",
       "    <tr style=\"text-align: right;\">\n",
       "      <th></th>\n",
       "      <th>ListingKey</th>\n",
       "      <th>ListingNumber</th>\n",
       "      <th>ListingCreationDate</th>\n",
       "      <th>CreditGrade</th>\n",
       "      <th>Term</th>\n",
       "      <th>LoanStatus</th>\n",
       "      <th>ClosedDate</th>\n",
       "      <th>BorrowerAPR</th>\n",
       "      <th>BorrowerRate</th>\n",
       "      <th>LenderYield</th>\n",
       "      <th>...</th>\n",
       "      <th>LP_ServiceFees</th>\n",
       "      <th>LP_CollectionFees</th>\n",
       "      <th>LP_GrossPrincipalLoss</th>\n",
       "      <th>LP_NetPrincipalLoss</th>\n",
       "      <th>LP_NonPrincipalRecoverypayments</th>\n",
       "      <th>PercentFunded</th>\n",
       "      <th>Recommendations</th>\n",
       "      <th>InvestmentFromFriendsCount</th>\n",
       "      <th>InvestmentFromFriendsAmount</th>\n",
       "      <th>Investors</th>\n",
       "    </tr>\n",
       "  </thead>\n",
       "  <tbody>\n",
       "    <tr>\n",
       "      <th>0</th>\n",
       "      <td>1021339766868145413AB3B</td>\n",
       "      <td>193129</td>\n",
       "      <td>2007-08-26 19:09:29.263000000</td>\n",
       "      <td>C</td>\n",
       "      <td>36</td>\n",
       "      <td>Completed</td>\n",
       "      <td>2009-08-14 00:00:00</td>\n",
       "      <td>0.16516</td>\n",
       "      <td>0.1580</td>\n",
       "      <td>0.1380</td>\n",
       "      <td>...</td>\n",
       "      <td>-133.18</td>\n",
       "      <td>0.00</td>\n",
       "      <td>0.00</td>\n",
       "      <td>0.00</td>\n",
       "      <td>0.00</td>\n",
       "      <td>1.0000</td>\n",
       "      <td>0</td>\n",
       "      <td>0</td>\n",
       "      <td>0.0</td>\n",
       "      <td>258</td>\n",
       "    </tr>\n",
       "    <tr>\n",
       "      <th>1</th>\n",
       "      <td>10273602499503308B223C1</td>\n",
       "      <td>1209647</td>\n",
       "      <td>2014-02-27 08:28:07.900000000</td>\n",
       "      <td>NaN</td>\n",
       "      <td>36</td>\n",
       "      <td>Current</td>\n",
       "      <td>NaN</td>\n",
       "      <td>0.12016</td>\n",
       "      <td>0.0920</td>\n",
       "      <td>0.0820</td>\n",
       "      <td>...</td>\n",
       "      <td>0.00</td>\n",
       "      <td>0.00</td>\n",
       "      <td>0.00</td>\n",
       "      <td>0.00</td>\n",
       "      <td>0.00</td>\n",
       "      <td>1.0000</td>\n",
       "      <td>0</td>\n",
       "      <td>0</td>\n",
       "      <td>0.0</td>\n",
       "      <td>1</td>\n",
       "    </tr>\n",
       "    <tr>\n",
       "      <th>2</th>\n",
       "      <td>0EE9337825851032864889A</td>\n",
       "      <td>81716</td>\n",
       "      <td>2007-01-05 15:00:47.090000000</td>\n",
       "      <td>HR</td>\n",
       "      <td>36</td>\n",
       "      <td>Completed</td>\n",
       "      <td>2009-12-17 00:00:00</td>\n",
       "      <td>0.28269</td>\n",
       "      <td>0.2750</td>\n",
       "      <td>0.2400</td>\n",
       "      <td>...</td>\n",
       "      <td>-24.20</td>\n",
       "      <td>0.00</td>\n",
       "      <td>0.00</td>\n",
       "      <td>0.00</td>\n",
       "      <td>0.00</td>\n",
       "      <td>1.0000</td>\n",
       "      <td>0</td>\n",
       "      <td>0</td>\n",
       "      <td>0.0</td>\n",
       "      <td>41</td>\n",
       "    </tr>\n",
       "    <tr>\n",
       "      <th>3</th>\n",
       "      <td>0EF5356002482715299901A</td>\n",
       "      <td>658116</td>\n",
       "      <td>2012-10-22 11:02:35.010000000</td>\n",
       "      <td>NaN</td>\n",
       "      <td>36</td>\n",
       "      <td>Current</td>\n",
       "      <td>NaN</td>\n",
       "      <td>0.12528</td>\n",
       "      <td>0.0974</td>\n",
       "      <td>0.0874</td>\n",
       "      <td>...</td>\n",
       "      <td>-108.01</td>\n",
       "      <td>0.00</td>\n",
       "      <td>0.00</td>\n",
       "      <td>0.00</td>\n",
       "      <td>0.00</td>\n",
       "      <td>1.0000</td>\n",
       "      <td>0</td>\n",
       "      <td>0</td>\n",
       "      <td>0.0</td>\n",
       "      <td>158</td>\n",
       "    </tr>\n",
       "    <tr>\n",
       "      <th>4</th>\n",
       "      <td>0F023589499656230C5E3E2</td>\n",
       "      <td>909464</td>\n",
       "      <td>2013-09-14 18:38:39.097000000</td>\n",
       "      <td>NaN</td>\n",
       "      <td>36</td>\n",
       "      <td>Current</td>\n",
       "      <td>NaN</td>\n",
       "      <td>0.24614</td>\n",
       "      <td>0.2085</td>\n",
       "      <td>0.1985</td>\n",
       "      <td>...</td>\n",
       "      <td>-60.27</td>\n",
       "      <td>0.00</td>\n",
       "      <td>0.00</td>\n",
       "      <td>0.00</td>\n",
       "      <td>0.00</td>\n",
       "      <td>1.0000</td>\n",
       "      <td>0</td>\n",
       "      <td>0</td>\n",
       "      <td>0.0</td>\n",
       "      <td>20</td>\n",
       "    </tr>\n",
       "    <tr>\n",
       "      <th>5</th>\n",
       "      <td>0F05359734824199381F61D</td>\n",
       "      <td>1074836</td>\n",
       "      <td>2013-12-14 08:26:37.093000000</td>\n",
       "      <td>NaN</td>\n",
       "      <td>60</td>\n",
       "      <td>Current</td>\n",
       "      <td>NaN</td>\n",
       "      <td>0.15425</td>\n",
       "      <td>0.1314</td>\n",
       "      <td>0.1214</td>\n",
       "      <td>...</td>\n",
       "      <td>-25.33</td>\n",
       "      <td>0.00</td>\n",
       "      <td>0.00</td>\n",
       "      <td>0.00</td>\n",
       "      <td>0.00</td>\n",
       "      <td>1.0000</td>\n",
       "      <td>0</td>\n",
       "      <td>0</td>\n",
       "      <td>0.0</td>\n",
       "      <td>1</td>\n",
       "    </tr>\n",
       "    <tr>\n",
       "      <th>6</th>\n",
       "      <td>0F0A3576754255009D63151</td>\n",
       "      <td>750899</td>\n",
       "      <td>2013-04-12 09:52:56.147000000</td>\n",
       "      <td>NaN</td>\n",
       "      <td>36</td>\n",
       "      <td>Current</td>\n",
       "      <td>NaN</td>\n",
       "      <td>0.31032</td>\n",
       "      <td>0.2712</td>\n",
       "      <td>0.2612</td>\n",
       "      <td>...</td>\n",
       "      <td>-22.95</td>\n",
       "      <td>0.00</td>\n",
       "      <td>0.00</td>\n",
       "      <td>0.00</td>\n",
       "      <td>0.00</td>\n",
       "      <td>1.0000</td>\n",
       "      <td>0</td>\n",
       "      <td>0</td>\n",
       "      <td>0.0</td>\n",
       "      <td>1</td>\n",
       "    </tr>\n",
       "    <tr>\n",
       "      <th>7</th>\n",
       "      <td>0F1035772717087366F9EA7</td>\n",
       "      <td>768193</td>\n",
       "      <td>2013-05-05 06:49:27.493000000</td>\n",
       "      <td>NaN</td>\n",
       "      <td>36</td>\n",
       "      <td>Current</td>\n",
       "      <td>NaN</td>\n",
       "      <td>0.23939</td>\n",
       "      <td>0.2019</td>\n",
       "      <td>0.1919</td>\n",
       "      <td>...</td>\n",
       "      <td>-69.21</td>\n",
       "      <td>0.00</td>\n",
       "      <td>0.00</td>\n",
       "      <td>0.00</td>\n",
       "      <td>0.00</td>\n",
       "      <td>1.0000</td>\n",
       "      <td>0</td>\n",
       "      <td>0</td>\n",
       "      <td>0.0</td>\n",
       "      <td>1</td>\n",
       "    </tr>\n",
       "    <tr>\n",
       "      <th>8</th>\n",
       "      <td>0F043596202561788EA13D5</td>\n",
       "      <td>1023355</td>\n",
       "      <td>2013-12-02 10:43:39.117000000</td>\n",
       "      <td>NaN</td>\n",
       "      <td>36</td>\n",
       "      <td>Current</td>\n",
       "      <td>NaN</td>\n",
       "      <td>0.07620</td>\n",
       "      <td>0.0629</td>\n",
       "      <td>0.0529</td>\n",
       "      <td>...</td>\n",
       "      <td>-16.77</td>\n",
       "      <td>0.00</td>\n",
       "      <td>0.00</td>\n",
       "      <td>0.00</td>\n",
       "      <td>0.00</td>\n",
       "      <td>1.0000</td>\n",
       "      <td>0</td>\n",
       "      <td>0</td>\n",
       "      <td>0.0</td>\n",
       "      <td>1</td>\n",
       "    </tr>\n",
       "    <tr>\n",
       "      <th>9</th>\n",
       "      <td>0F043596202561788EA13D5</td>\n",
       "      <td>1023355</td>\n",
       "      <td>2013-12-02 10:43:39.117000000</td>\n",
       "      <td>NaN</td>\n",
       "      <td>36</td>\n",
       "      <td>Current</td>\n",
       "      <td>NaN</td>\n",
       "      <td>0.07620</td>\n",
       "      <td>0.0629</td>\n",
       "      <td>0.0529</td>\n",
       "      <td>...</td>\n",
       "      <td>-16.77</td>\n",
       "      <td>0.00</td>\n",
       "      <td>0.00</td>\n",
       "      <td>0.00</td>\n",
       "      <td>0.00</td>\n",
       "      <td>1.0000</td>\n",
       "      <td>0</td>\n",
       "      <td>0</td>\n",
       "      <td>0.0</td>\n",
       "      <td>1</td>\n",
       "    </tr>\n",
       "    <tr>\n",
       "      <th>10</th>\n",
       "      <td>0F123545674891886D9F106</td>\n",
       "      <td>587746</td>\n",
       "      <td>2012-05-10 07:04:01.577000000</td>\n",
       "      <td>NaN</td>\n",
       "      <td>60</td>\n",
       "      <td>Current</td>\n",
       "      <td>NaN</td>\n",
       "      <td>0.27462</td>\n",
       "      <td>0.2489</td>\n",
       "      <td>0.2389</td>\n",
       "      <td>...</td>\n",
       "      <td>-214.04</td>\n",
       "      <td>0.00</td>\n",
       "      <td>0.00</td>\n",
       "      <td>0.00</td>\n",
       "      <td>0.00</td>\n",
       "      <td>1.0000</td>\n",
       "      <td>0</td>\n",
       "      <td>0</td>\n",
       "      <td>0.0</td>\n",
       "      <td>19</td>\n",
       "    </tr>\n",
       "    <tr>\n",
       "      <th>11</th>\n",
       "      <td>0F1734025150298088A5F2B</td>\n",
       "      <td>213551</td>\n",
       "      <td>2007-10-09 20:28:33.640000000</td>\n",
       "      <td>C</td>\n",
       "      <td>36</td>\n",
       "      <td>Completed</td>\n",
       "      <td>2008-01-07 00:00:00</td>\n",
       "      <td>0.15033</td>\n",
       "      <td>0.1325</td>\n",
       "      <td>0.1225</td>\n",
       "      <td>...</td>\n",
       "      <td>-0.88</td>\n",
       "      <td>0.00</td>\n",
       "      <td>0.00</td>\n",
       "      <td>0.00</td>\n",
       "      <td>0.00</td>\n",
       "      <td>1.0000</td>\n",
       "      <td>0</td>\n",
       "      <td>0</td>\n",
       "      <td>0.0</td>\n",
       "      <td>53</td>\n",
       "    </tr>\n",
       "    <tr>\n",
       "      <th>12</th>\n",
       "      <td>0F1A3597143888805163EF7</td>\n",
       "      <td>1081604</td>\n",
       "      <td>2013-12-15 20:01:10.757000000</td>\n",
       "      <td>NaN</td>\n",
       "      <td>36</td>\n",
       "      <td>Past Due (1-15 days)</td>\n",
       "      <td>NaN</td>\n",
       "      <td>0.17969</td>\n",
       "      <td>0.1435</td>\n",
       "      <td>0.1335</td>\n",
       "      <td>...</td>\n",
       "      <td>-3.40</td>\n",
       "      <td>0.00</td>\n",
       "      <td>0.00</td>\n",
       "      <td>0.00</td>\n",
       "      <td>0.00</td>\n",
       "      <td>1.0000</td>\n",
       "      <td>0</td>\n",
       "      <td>0</td>\n",
       "      <td>0.0</td>\n",
       "      <td>1</td>\n",
       "    </tr>\n",
       "    <tr>\n",
       "      <th>13</th>\n",
       "      <td>0F1C3583260311305D68F87</td>\n",
       "      <td>840820</td>\n",
       "      <td>2013-07-15 16:28:28.087000000</td>\n",
       "      <td>NaN</td>\n",
       "      <td>36</td>\n",
       "      <td>Current</td>\n",
       "      <td>NaN</td>\n",
       "      <td>0.13138</td>\n",
       "      <td>0.1034</td>\n",
       "      <td>0.0934</td>\n",
       "      <td>...</td>\n",
       "      <td>-46.42</td>\n",
       "      <td>0.00</td>\n",
       "      <td>0.00</td>\n",
       "      <td>0.00</td>\n",
       "      <td>0.00</td>\n",
       "      <td>1.0000</td>\n",
       "      <td>0</td>\n",
       "      <td>0</td>\n",
       "      <td>0.0</td>\n",
       "      <td>171</td>\n",
       "    </tr>\n",
       "    <tr>\n",
       "      <th>14</th>\n",
       "      <td>0F353575943675863D1AFC0</td>\n",
       "      <td>757359</td>\n",
       "      <td>2013-04-19 11:17:41.700000000</td>\n",
       "      <td>NaN</td>\n",
       "      <td>60</td>\n",
       "      <td>Current</td>\n",
       "      <td>NaN</td>\n",
       "      <td>0.11695</td>\n",
       "      <td>0.0949</td>\n",
       "      <td>0.0849</td>\n",
       "      <td>...</td>\n",
       "      <td>-138.07</td>\n",
       "      <td>0.00</td>\n",
       "      <td>0.00</td>\n",
       "      <td>0.00</td>\n",
       "      <td>0.00</td>\n",
       "      <td>0.7731</td>\n",
       "      <td>0</td>\n",
       "      <td>0</td>\n",
       "      <td>0.0</td>\n",
       "      <td>371</td>\n",
       "    </tr>\n",
       "    <tr>\n",
       "      <th>15</th>\n",
       "      <td>0F483544120452347F48121</td>\n",
       "      <td>577164</td>\n",
       "      <td>2012-04-10 09:14:46.297000000</td>\n",
       "      <td>NaN</td>\n",
       "      <td>36</td>\n",
       "      <td>Defaulted</td>\n",
       "      <td>2012-12-19 00:00:00</td>\n",
       "      <td>0.35797</td>\n",
       "      <td>0.3177</td>\n",
       "      <td>0.3077</td>\n",
       "      <td>...</td>\n",
       "      <td>-9.81</td>\n",
       "      <td>0.00</td>\n",
       "      <td>3790.25</td>\n",
       "      <td>3790.25</td>\n",
       "      <td>0.00</td>\n",
       "      <td>1.0000</td>\n",
       "      <td>0</td>\n",
       "      <td>0</td>\n",
       "      <td>0.0</td>\n",
       "      <td>10</td>\n",
       "    </tr>\n",
       "    <tr>\n",
       "      <th>16</th>\n",
       "      <td>0F4835843081468212F0892</td>\n",
       "      <td>841846</td>\n",
       "      <td>2013-07-16 12:42:48.680000000</td>\n",
       "      <td>NaN</td>\n",
       "      <td>60</td>\n",
       "      <td>Current</td>\n",
       "      <td>NaN</td>\n",
       "      <td>0.30748</td>\n",
       "      <td>0.2809</td>\n",
       "      <td>0.2709</td>\n",
       "      <td>...</td>\n",
       "      <td>-23.01</td>\n",
       "      <td>0.00</td>\n",
       "      <td>0.00</td>\n",
       "      <td>0.00</td>\n",
       "      <td>0.00</td>\n",
       "      <td>1.0000</td>\n",
       "      <td>0</td>\n",
       "      <td>0</td>\n",
       "      <td>0.0</td>\n",
       "      <td>8</td>\n",
       "    </tr>\n",
       "    <tr>\n",
       "      <th>17</th>\n",
       "      <td>0FDF336575182398852A8DC</td>\n",
       "      <td>31540</td>\n",
       "      <td>2006-08-15 12:21:09.433000000</td>\n",
       "      <td>AA</td>\n",
       "      <td>36</td>\n",
       "      <td>Chargedoff</td>\n",
       "      <td>2008-05-22 00:00:00</td>\n",
       "      <td>0.13202</td>\n",
       "      <td>0.1250</td>\n",
       "      <td>0.1175</td>\n",
       "      <td>...</td>\n",
       "      <td>-54.61</td>\n",
       "      <td>0.00</td>\n",
       "      <td>6012.65</td>\n",
       "      <td>6012.67</td>\n",
       "      <td>268.96</td>\n",
       "      <td>1.0000</td>\n",
       "      <td>0</td>\n",
       "      <td>0</td>\n",
       "      <td>0.0</td>\n",
       "      <td>85</td>\n",
       "    </tr>\n",
       "    <tr>\n",
       "      <th>18</th>\n",
       "      <td>0FF2357105361877390B58D</td>\n",
       "      <td>716058</td>\n",
       "      <td>2013-02-20 03:48:37.470000000</td>\n",
       "      <td>NaN</td>\n",
       "      <td>36</td>\n",
       "      <td>Current</td>\n",
       "      <td>NaN</td>\n",
       "      <td>0.12528</td>\n",
       "      <td>0.0974</td>\n",
       "      <td>0.0874</td>\n",
       "      <td>...</td>\n",
       "      <td>-121.47</td>\n",
       "      <td>0.00</td>\n",
       "      <td>0.00</td>\n",
       "      <td>0.00</td>\n",
       "      <td>0.00</td>\n",
       "      <td>1.0000</td>\n",
       "      <td>0</td>\n",
       "      <td>0</td>\n",
       "      <td>0.0</td>\n",
       "      <td>303</td>\n",
       "    </tr>\n",
       "    <tr>\n",
       "      <th>19</th>\n",
       "      <td>0FFC35866018516621B0D3F</td>\n",
       "      <td>875565</td>\n",
       "      <td>2013-08-21 06:49:02.093000000</td>\n",
       "      <td>NaN</td>\n",
       "      <td>60</td>\n",
       "      <td>Current</td>\n",
       "      <td>NaN</td>\n",
       "      <td>0.24754</td>\n",
       "      <td>0.2225</td>\n",
       "      <td>0.2125</td>\n",
       "      <td>...</td>\n",
       "      <td>-21.61</td>\n",
       "      <td>0.00</td>\n",
       "      <td>0.00</td>\n",
       "      <td>0.00</td>\n",
       "      <td>0.00</td>\n",
       "      <td>1.0000</td>\n",
       "      <td>0</td>\n",
       "      <td>0</td>\n",
       "      <td>0.0</td>\n",
       "      <td>1</td>\n",
       "    </tr>\n",
       "    <tr>\n",
       "      <th>20</th>\n",
       "      <td>101635959323992333B3C70</td>\n",
       "      <td>1011916</td>\n",
       "      <td>2013-11-22 11:35:02.987000000</td>\n",
       "      <td>NaN</td>\n",
       "      <td>36</td>\n",
       "      <td>Current</td>\n",
       "      <td>NaN</td>\n",
       "      <td>0.16732</td>\n",
       "      <td>0.1314</td>\n",
       "      <td>0.1214</td>\n",
       "      <td>...</td>\n",
       "      <td>-34.11</td>\n",
       "      <td>0.00</td>\n",
       "      <td>0.00</td>\n",
       "      <td>0.00</td>\n",
       "      <td>0.00</td>\n",
       "      <td>1.0000</td>\n",
       "      <td>0</td>\n",
       "      <td>0</td>\n",
       "      <td>0.0</td>\n",
       "      <td>1</td>\n",
       "    </tr>\n",
       "    <tr>\n",
       "      <th>21</th>\n",
       "      <td>1017340630713945364DA6B</td>\n",
       "      <td>241498</td>\n",
       "      <td>2007-11-30 20:33:49.227000000</td>\n",
       "      <td>D</td>\n",
       "      <td>36</td>\n",
       "      <td>Completed</td>\n",
       "      <td>2010-12-12 00:00:00</td>\n",
       "      <td>0.21488</td>\n",
       "      <td>0.2075</td>\n",
       "      <td>0.1975</td>\n",
       "      <td>...</td>\n",
       "      <td>-51.12</td>\n",
       "      <td>0.00</td>\n",
       "      <td>0.00</td>\n",
       "      <td>0.00</td>\n",
       "      <td>0.00</td>\n",
       "      <td>1.0000</td>\n",
       "      <td>0</td>\n",
       "      <td>0</td>\n",
       "      <td>0.0</td>\n",
       "      <td>53</td>\n",
       "    </tr>\n",
       "    <tr>\n",
       "      <th>22</th>\n",
       "      <td>101735700321773921526BF</td>\n",
       "      <td>706927</td>\n",
       "      <td>2013-01-30 09:36:13.783000000</td>\n",
       "      <td>NaN</td>\n",
       "      <td>36</td>\n",
       "      <td>Current</td>\n",
       "      <td>NaN</td>\n",
       "      <td>0.35356</td>\n",
       "      <td>0.3134</td>\n",
       "      <td>0.3034</td>\n",
       "      <td>...</td>\n",
       "      <td>-35.80</td>\n",
       "      <td>0.00</td>\n",
       "      <td>0.00</td>\n",
       "      <td>0.00</td>\n",
       "      <td>0.00</td>\n",
       "      <td>1.0000</td>\n",
       "      <td>0</td>\n",
       "      <td>0</td>\n",
       "      <td>0.0</td>\n",
       "      <td>94</td>\n",
       "    </tr>\n",
       "    <tr>\n",
       "      <th>23</th>\n",
       "      <td>101B35764008108187B2EBA</td>\n",
       "      <td>758964</td>\n",
       "      <td>2013-04-22 13:29:19.073000000</td>\n",
       "      <td>NaN</td>\n",
       "      <td>36</td>\n",
       "      <td>Defaulted</td>\n",
       "      <td>2013-12-26 00:00:00</td>\n",
       "      <td>0.28032</td>\n",
       "      <td>0.2419</td>\n",
       "      <td>0.2319</td>\n",
       "      <td>...</td>\n",
       "      <td>-4.89</td>\n",
       "      <td>0.00</td>\n",
       "      <td>1882.27</td>\n",
       "      <td>1882.27</td>\n",
       "      <td>0.00</td>\n",
       "      <td>1.0000</td>\n",
       "      <td>0</td>\n",
       "      <td>0</td>\n",
       "      <td>0.0</td>\n",
       "      <td>30</td>\n",
       "    </tr>\n",
       "    <tr>\n",
       "      <th>24</th>\n",
       "      <td>101B3596709094692AC79C0</td>\n",
       "      <td>1046345</td>\n",
       "      <td>2013-12-03 11:34:46.127000000</td>\n",
       "      <td>NaN</td>\n",
       "      <td>36</td>\n",
       "      <td>Current</td>\n",
       "      <td>NaN</td>\n",
       "      <td>0.19859</td>\n",
       "      <td>0.1620</td>\n",
       "      <td>0.1520</td>\n",
       "      <td>...</td>\n",
       "      <td>-6.72</td>\n",
       "      <td>0.00</td>\n",
       "      <td>0.00</td>\n",
       "      <td>0.00</td>\n",
       "      <td>0.00</td>\n",
       "      <td>1.0000</td>\n",
       "      <td>0</td>\n",
       "      <td>0</td>\n",
       "      <td>0.0</td>\n",
       "      <td>1</td>\n",
       "    </tr>\n",
       "    <tr>\n",
       "      <th>25</th>\n",
       "      <td>10223590888942486E3826E</td>\n",
       "      <td>950067</td>\n",
       "      <td>2013-10-02 14:31:09.157000000</td>\n",
       "      <td>NaN</td>\n",
       "      <td>36</td>\n",
       "      <td>Current</td>\n",
       "      <td>NaN</td>\n",
       "      <td>0.30182</td>\n",
       "      <td>0.2629</td>\n",
       "      <td>0.2529</td>\n",
       "      <td>...</td>\n",
       "      <td>-13.11</td>\n",
       "      <td>0.00</td>\n",
       "      <td>0.00</td>\n",
       "      <td>0.00</td>\n",
       "      <td>0.00</td>\n",
       "      <td>1.0000</td>\n",
       "      <td>0</td>\n",
       "      <td>0</td>\n",
       "      <td>0.0</td>\n",
       "      <td>3</td>\n",
       "    </tr>\n",
       "    <tr>\n",
       "      <th>26</th>\n",
       "      <td>0F4F3571508214190FD75CB</td>\n",
       "      <td>713131</td>\n",
       "      <td>2013-02-12 18:07:31.690000000</td>\n",
       "      <td>NaN</td>\n",
       "      <td>60</td>\n",
       "      <td>Completed</td>\n",
       "      <td>2013-10-22 00:00:00</td>\n",
       "      <td>0.30748</td>\n",
       "      <td>0.2809</td>\n",
       "      <td>0.2709</td>\n",
       "      <td>...</td>\n",
       "      <td>-25.81</td>\n",
       "      <td>0.00</td>\n",
       "      <td>0.00</td>\n",
       "      <td>0.00</td>\n",
       "      <td>0.00</td>\n",
       "      <td>1.0000</td>\n",
       "      <td>0</td>\n",
       "      <td>0</td>\n",
       "      <td>0.0</td>\n",
       "      <td>37</td>\n",
       "    </tr>\n",
       "    <tr>\n",
       "      <th>27</th>\n",
       "      <td>0F5034867864161084F3789</td>\n",
       "      <td>463083</td>\n",
       "      <td>2010-06-16 16:23:44.533000000</td>\n",
       "      <td>NaN</td>\n",
       "      <td>36</td>\n",
       "      <td>Completed</td>\n",
       "      <td>2013-07-03 00:00:00</td>\n",
       "      <td>0.11296</td>\n",
       "      <td>0.0920</td>\n",
       "      <td>0.0820</td>\n",
       "      <td>...</td>\n",
       "      <td>-64.62</td>\n",
       "      <td>0.00</td>\n",
       "      <td>0.00</td>\n",
       "      <td>0.00</td>\n",
       "      <td>0.00</td>\n",
       "      <td>1.0000</td>\n",
       "      <td>0</td>\n",
       "      <td>0</td>\n",
       "      <td>0.0</td>\n",
       "      <td>121</td>\n",
       "    </tr>\n",
       "    <tr>\n",
       "      <th>28</th>\n",
       "      <td>0F53359346357513247D86B</td>\n",
       "      <td>989519</td>\n",
       "      <td>2013-11-02 16:01:28.050000000</td>\n",
       "      <td>NaN</td>\n",
       "      <td>36</td>\n",
       "      <td>Current</td>\n",
       "      <td>NaN</td>\n",
       "      <td>0.20268</td>\n",
       "      <td>0.1660</td>\n",
       "      <td>0.1560</td>\n",
       "      <td>...</td>\n",
       "      <td>-22.56</td>\n",
       "      <td>0.00</td>\n",
       "      <td>0.00</td>\n",
       "      <td>0.00</td>\n",
       "      <td>0.00</td>\n",
       "      <td>1.0000</td>\n",
       "      <td>0</td>\n",
       "      <td>0</td>\n",
       "      <td>0.0</td>\n",
       "      <td>1</td>\n",
       "    </tr>\n",
       "    <tr>\n",
       "      <th>29</th>\n",
       "      <td>0F563597161095613517437</td>\n",
       "      <td>1051243</td>\n",
       "      <td>2013-12-17 09:18:33.220000000</td>\n",
       "      <td>NaN</td>\n",
       "      <td>36</td>\n",
       "      <td>Current</td>\n",
       "      <td>NaN</td>\n",
       "      <td>0.15223</td>\n",
       "      <td>0.1239</td>\n",
       "      <td>0.1139</td>\n",
       "      <td>...</td>\n",
       "      <td>-29.73</td>\n",
       "      <td>0.00</td>\n",
       "      <td>0.00</td>\n",
       "      <td>0.00</td>\n",
       "      <td>0.00</td>\n",
       "      <td>1.0000</td>\n",
       "      <td>0</td>\n",
       "      <td>0</td>\n",
       "      <td>0.0</td>\n",
       "      <td>1</td>\n",
       "    </tr>\n",
       "    <tr>\n",
       "      <th>...</th>\n",
       "      <td>...</td>\n",
       "      <td>...</td>\n",
       "      <td>...</td>\n",
       "      <td>...</td>\n",
       "      <td>...</td>\n",
       "      <td>...</td>\n",
       "      <td>...</td>\n",
       "      <td>...</td>\n",
       "      <td>...</td>\n",
       "      <td>...</td>\n",
       "      <td>...</td>\n",
       "      <td>...</td>\n",
       "      <td>...</td>\n",
       "      <td>...</td>\n",
       "      <td>...</td>\n",
       "      <td>...</td>\n",
       "      <td>...</td>\n",
       "      <td>...</td>\n",
       "      <td>...</td>\n",
       "      <td>...</td>\n",
       "      <td>...</td>\n",
       "    </tr>\n",
       "    <tr>\n",
       "      <th>113907</th>\n",
       "      <td>C982359388882926442DE72</td>\n",
       "      <td>1005215</td>\n",
       "      <td>2013-11-09 06:55:05.690000000</td>\n",
       "      <td>NaN</td>\n",
       "      <td>36</td>\n",
       "      <td>Current</td>\n",
       "      <td>NaN</td>\n",
       "      <td>0.35356</td>\n",
       "      <td>0.3134</td>\n",
       "      <td>0.3034</td>\n",
       "      <td>...</td>\n",
       "      <td>-9.99</td>\n",
       "      <td>0.00</td>\n",
       "      <td>0.00</td>\n",
       "      <td>0.00</td>\n",
       "      <td>0.00</td>\n",
       "      <td>1.0000</td>\n",
       "      <td>0</td>\n",
       "      <td>0</td>\n",
       "      <td>0.0</td>\n",
       "      <td>3</td>\n",
       "    </tr>\n",
       "    <tr>\n",
       "      <th>113908</th>\n",
       "      <td>C9843500054876019D611A1</td>\n",
       "      <td>486057</td>\n",
       "      <td>2010-11-29 10:40:09.730000000</td>\n",
       "      <td>NaN</td>\n",
       "      <td>36</td>\n",
       "      <td>Completed</td>\n",
       "      <td>2011-01-31 00:00:00</td>\n",
       "      <td>0.35858</td>\n",
       "      <td>0.3220</td>\n",
       "      <td>0.3120</td>\n",
       "      <td>...</td>\n",
       "      <td>-11.02</td>\n",
       "      <td>0.00</td>\n",
       "      <td>0.00</td>\n",
       "      <td>0.00</td>\n",
       "      <td>0.00</td>\n",
       "      <td>1.0000</td>\n",
       "      <td>0</td>\n",
       "      <td>0</td>\n",
       "      <td>0.0</td>\n",
       "      <td>98</td>\n",
       "    </tr>\n",
       "    <tr>\n",
       "      <th>113909</th>\n",
       "      <td>C98635564651525938EB38E</td>\n",
       "      <td>635880</td>\n",
       "      <td>2012-09-08 10:34:38.837000000</td>\n",
       "      <td>NaN</td>\n",
       "      <td>60</td>\n",
       "      <td>Current</td>\n",
       "      <td>NaN</td>\n",
       "      <td>0.27554</td>\n",
       "      <td>0.2498</td>\n",
       "      <td>0.2398</td>\n",
       "      <td>...</td>\n",
       "      <td>-78.65</td>\n",
       "      <td>0.00</td>\n",
       "      <td>0.00</td>\n",
       "      <td>0.00</td>\n",
       "      <td>0.00</td>\n",
       "      <td>1.0000</td>\n",
       "      <td>0</td>\n",
       "      <td>0</td>\n",
       "      <td>0.0</td>\n",
       "      <td>9</td>\n",
       "    </tr>\n",
       "    <tr>\n",
       "      <th>113910</th>\n",
       "      <td>C9873600264828351437CAB</td>\n",
       "      <td>1161059</td>\n",
       "      <td>2014-01-24 19:56:49.960000000</td>\n",
       "      <td>NaN</td>\n",
       "      <td>36</td>\n",
       "      <td>Current</td>\n",
       "      <td>NaN</td>\n",
       "      <td>0.32446</td>\n",
       "      <td>0.2850</td>\n",
       "      <td>0.2750</td>\n",
       "      <td>...</td>\n",
       "      <td>-3.29</td>\n",
       "      <td>0.00</td>\n",
       "      <td>0.00</td>\n",
       "      <td>0.00</td>\n",
       "      <td>0.00</td>\n",
       "      <td>1.0000</td>\n",
       "      <td>0</td>\n",
       "      <td>0</td>\n",
       "      <td>0.0</td>\n",
       "      <td>1</td>\n",
       "    </tr>\n",
       "    <tr>\n",
       "      <th>113911</th>\n",
       "      <td>C9883594035073098BC5D51</td>\n",
       "      <td>996496</td>\n",
       "      <td>2013-11-15 11:42:47.540000000</td>\n",
       "      <td>NaN</td>\n",
       "      <td>36</td>\n",
       "      <td>Current</td>\n",
       "      <td>NaN</td>\n",
       "      <td>0.25330</td>\n",
       "      <td>0.2155</td>\n",
       "      <td>0.2055</td>\n",
       "      <td>...</td>\n",
       "      <td>-24.69</td>\n",
       "      <td>0.00</td>\n",
       "      <td>0.00</td>\n",
       "      <td>0.00</td>\n",
       "      <td>0.00</td>\n",
       "      <td>1.0000</td>\n",
       "      <td>0</td>\n",
       "      <td>0</td>\n",
       "      <td>0.0</td>\n",
       "      <td>1</td>\n",
       "    </tr>\n",
       "    <tr>\n",
       "      <th>113912</th>\n",
       "      <td>C98A3597264633447D66DF9</td>\n",
       "      <td>1083677</td>\n",
       "      <td>2013-12-16 16:36:00.990000000</td>\n",
       "      <td>NaN</td>\n",
       "      <td>36</td>\n",
       "      <td>Current</td>\n",
       "      <td>NaN</td>\n",
       "      <td>0.06726</td>\n",
       "      <td>0.0605</td>\n",
       "      <td>0.0505</td>\n",
       "      <td>...</td>\n",
       "      <td>-7.15</td>\n",
       "      <td>0.00</td>\n",
       "      <td>0.00</td>\n",
       "      <td>0.00</td>\n",
       "      <td>0.00</td>\n",
       "      <td>1.0000</td>\n",
       "      <td>0</td>\n",
       "      <td>0</td>\n",
       "      <td>0.0</td>\n",
       "      <td>1</td>\n",
       "    </tr>\n",
       "    <tr>\n",
       "      <th>113913</th>\n",
       "      <td>D2013482695428940FAD9E3</td>\n",
       "      <td>455673</td>\n",
       "      <td>2010-04-25 15:13:27.963000000</td>\n",
       "      <td>NaN</td>\n",
       "      <td>36</td>\n",
       "      <td>Completed</td>\n",
       "      <td>2013-05-05 00:00:00</td>\n",
       "      <td>0.12410</td>\n",
       "      <td>0.1030</td>\n",
       "      <td>0.0930</td>\n",
       "      <td>...</td>\n",
       "      <td>-129.82</td>\n",
       "      <td>0.00</td>\n",
       "      <td>0.00</td>\n",
       "      <td>0.00</td>\n",
       "      <td>0.00</td>\n",
       "      <td>1.0000</td>\n",
       "      <td>0</td>\n",
       "      <td>0</td>\n",
       "      <td>0.0</td>\n",
       "      <td>265</td>\n",
       "    </tr>\n",
       "    <tr>\n",
       "      <th>113914</th>\n",
       "      <td>D20533652658825353F6597</td>\n",
       "      <td>30223</td>\n",
       "      <td>2006-08-09 14:34:40.010000000</td>\n",
       "      <td>HR</td>\n",
       "      <td>36</td>\n",
       "      <td>Defaulted</td>\n",
       "      <td>2007-03-19 00:00:00</td>\n",
       "      <td>0.25757</td>\n",
       "      <td>0.2500</td>\n",
       "      <td>0.2450</td>\n",
       "      <td>...</td>\n",
       "      <td>-2.43</td>\n",
       "      <td>0.00</td>\n",
       "      <td>2883.01</td>\n",
       "      <td>2883.00</td>\n",
       "      <td>0.00</td>\n",
       "      <td>1.0000</td>\n",
       "      <td>0</td>\n",
       "      <td>0</td>\n",
       "      <td>0.0</td>\n",
       "      <td>1</td>\n",
       "    </tr>\n",
       "    <tr>\n",
       "      <th>113915</th>\n",
       "      <td>D2053427325575423785798</td>\n",
       "      <td>374730</td>\n",
       "      <td>2008-07-29 05:22:29.390000000</td>\n",
       "      <td>D</td>\n",
       "      <td>36</td>\n",
       "      <td>Completed</td>\n",
       "      <td>2011-09-28 00:00:00</td>\n",
       "      <td>0.22237</td>\n",
       "      <td>0.2000</td>\n",
       "      <td>0.1900</td>\n",
       "      <td>...</td>\n",
       "      <td>-51.71</td>\n",
       "      <td>-37.64</td>\n",
       "      <td>0.00</td>\n",
       "      <td>0.00</td>\n",
       "      <td>0.00</td>\n",
       "      <td>1.0000</td>\n",
       "      <td>1</td>\n",
       "      <td>0</td>\n",
       "      <td>0.0</td>\n",
       "      <td>135</td>\n",
       "    </tr>\n",
       "    <tr>\n",
       "      <th>113916</th>\n",
       "      <td>D2063562664602024E13D82</td>\n",
       "      <td>667047</td>\n",
       "      <td>2012-11-08 20:07:36.600000000</td>\n",
       "      <td>NaN</td>\n",
       "      <td>36</td>\n",
       "      <td>Current</td>\n",
       "      <td>NaN</td>\n",
       "      <td>0.33286</td>\n",
       "      <td>0.2932</td>\n",
       "      <td>0.2832</td>\n",
       "      <td>...</td>\n",
       "      <td>-43.14</td>\n",
       "      <td>0.00</td>\n",
       "      <td>0.00</td>\n",
       "      <td>0.00</td>\n",
       "      <td>0.00</td>\n",
       "      <td>1.0000</td>\n",
       "      <td>0</td>\n",
       "      <td>0</td>\n",
       "      <td>0.0</td>\n",
       "      <td>87</td>\n",
       "    </tr>\n",
       "    <tr>\n",
       "      <th>113917</th>\n",
       "      <td>D2063594229009539839457</td>\n",
       "      <td>1028126</td>\n",
       "      <td>2013-11-23 04:52:50.057000000</td>\n",
       "      <td>NaN</td>\n",
       "      <td>36</td>\n",
       "      <td>Current</td>\n",
       "      <td>NaN</td>\n",
       "      <td>0.32446</td>\n",
       "      <td>0.2850</td>\n",
       "      <td>0.2750</td>\n",
       "      <td>...</td>\n",
       "      <td>-9.80</td>\n",
       "      <td>0.00</td>\n",
       "      <td>0.00</td>\n",
       "      <td>0.00</td>\n",
       "      <td>0.00</td>\n",
       "      <td>1.0000</td>\n",
       "      <td>0</td>\n",
       "      <td>0</td>\n",
       "      <td>0.0</td>\n",
       "      <td>1</td>\n",
       "    </tr>\n",
       "    <tr>\n",
       "      <th>113918</th>\n",
       "      <td>D207342464194217591D1E1</td>\n",
       "      <td>353488</td>\n",
       "      <td>2008-06-19 12:02:53.300000000</td>\n",
       "      <td>A</td>\n",
       "      <td>36</td>\n",
       "      <td>Defaulted</td>\n",
       "      <td>2011-01-27 00:00:00</td>\n",
       "      <td>0.12201</td>\n",
       "      <td>0.1080</td>\n",
       "      <td>0.0980</td>\n",
       "      <td>...</td>\n",
       "      <td>-103.49</td>\n",
       "      <td>0.00</td>\n",
       "      <td>2176.53</td>\n",
       "      <td>2176.51</td>\n",
       "      <td>0.00</td>\n",
       "      <td>1.0000</td>\n",
       "      <td>0</td>\n",
       "      <td>0</td>\n",
       "      <td>0.0</td>\n",
       "      <td>173</td>\n",
       "    </tr>\n",
       "    <tr>\n",
       "      <th>113919</th>\n",
       "      <td>D20C3577637248543A1F80C</td>\n",
       "      <td>772509</td>\n",
       "      <td>2013-05-07 18:49:59.750000000</td>\n",
       "      <td>NaN</td>\n",
       "      <td>36</td>\n",
       "      <td>Current</td>\n",
       "      <td>NaN</td>\n",
       "      <td>0.27285</td>\n",
       "      <td>0.2346</td>\n",
       "      <td>0.2246</td>\n",
       "      <td>...</td>\n",
       "      <td>-25.59</td>\n",
       "      <td>0.00</td>\n",
       "      <td>0.00</td>\n",
       "      <td>0.00</td>\n",
       "      <td>0.00</td>\n",
       "      <td>1.0000</td>\n",
       "      <td>0</td>\n",
       "      <td>0</td>\n",
       "      <td>0.0</td>\n",
       "      <td>1</td>\n",
       "    </tr>\n",
       "    <tr>\n",
       "      <th>113920</th>\n",
       "      <td>D20E358076984586576526D</td>\n",
       "      <td>804763</td>\n",
       "      <td>2013-06-11 05:49:40.247000000</td>\n",
       "      <td>NaN</td>\n",
       "      <td>36</td>\n",
       "      <td>Current</td>\n",
       "      <td>NaN</td>\n",
       "      <td>0.35356</td>\n",
       "      <td>0.3134</td>\n",
       "      <td>0.3034</td>\n",
       "      <td>...</td>\n",
       "      <td>-25.39</td>\n",
       "      <td>0.00</td>\n",
       "      <td>0.00</td>\n",
       "      <td>0.00</td>\n",
       "      <td>0.00</td>\n",
       "      <td>1.0000</td>\n",
       "      <td>0</td>\n",
       "      <td>0</td>\n",
       "      <td>0.0</td>\n",
       "      <td>1</td>\n",
       "    </tr>\n",
       "    <tr>\n",
       "      <th>113921</th>\n",
       "      <td>D21A33647075665665BE266</td>\n",
       "      <td>4</td>\n",
       "      <td>2005-11-09 20:44:28.847000000</td>\n",
       "      <td>AA</td>\n",
       "      <td>36</td>\n",
       "      <td>Completed</td>\n",
       "      <td>2005-11-25 00:00:00</td>\n",
       "      <td>NaN</td>\n",
       "      <td>0.0400</td>\n",
       "      <td>0.0350</td>\n",
       "      <td>...</td>\n",
       "      <td>-0.88</td>\n",
       "      <td>0.00</td>\n",
       "      <td>0.00</td>\n",
       "      <td>0.00</td>\n",
       "      <td>0.00</td>\n",
       "      <td>1.0000</td>\n",
       "      <td>0</td>\n",
       "      <td>0</td>\n",
       "      <td>0.0</td>\n",
       "      <td>1</td>\n",
       "    </tr>\n",
       "    <tr>\n",
       "      <th>113922</th>\n",
       "      <td>D2293427338962159DA5143</td>\n",
       "      <td>379986</td>\n",
       "      <td>2008-08-08 16:58:54.760000000</td>\n",
       "      <td>C</td>\n",
       "      <td>36</td>\n",
       "      <td>Completed</td>\n",
       "      <td>2011-08-19 00:00:00</td>\n",
       "      <td>0.15094</td>\n",
       "      <td>0.1295</td>\n",
       "      <td>0.1195</td>\n",
       "      <td>...</td>\n",
       "      <td>-81.95</td>\n",
       "      <td>0.00</td>\n",
       "      <td>0.00</td>\n",
       "      <td>0.00</td>\n",
       "      <td>0.00</td>\n",
       "      <td>1.0000</td>\n",
       "      <td>0</td>\n",
       "      <td>0</td>\n",
       "      <td>0.0</td>\n",
       "      <td>145</td>\n",
       "    </tr>\n",
       "    <tr>\n",
       "      <th>113923</th>\n",
       "      <td>E334343080922352965DF86</td>\n",
       "      <td>395877</td>\n",
       "      <td>2008-09-10 08:26:30.537000000</td>\n",
       "      <td>B</td>\n",
       "      <td>36</td>\n",
       "      <td>Completed</td>\n",
       "      <td>2011-09-23 00:00:00</td>\n",
       "      <td>0.22378</td>\n",
       "      <td>0.2089</td>\n",
       "      <td>0.1989</td>\n",
       "      <td>...</td>\n",
       "      <td>-135.50</td>\n",
       "      <td>0.00</td>\n",
       "      <td>0.00</td>\n",
       "      <td>0.00</td>\n",
       "      <td>0.00</td>\n",
       "      <td>1.0000</td>\n",
       "      <td>0</td>\n",
       "      <td>0</td>\n",
       "      <td>0.0</td>\n",
       "      <td>270</td>\n",
       "    </tr>\n",
       "    <tr>\n",
       "      <th>113924</th>\n",
       "      <td>E340356181565702714DBCE</td>\n",
       "      <td>657862</td>\n",
       "      <td>2012-10-20 19:15:52.670000000</td>\n",
       "      <td>NaN</td>\n",
       "      <td>60</td>\n",
       "      <td>Current</td>\n",
       "      <td>NaN</td>\n",
       "      <td>0.17317</td>\n",
       "      <td>0.1499</td>\n",
       "      <td>0.1399</td>\n",
       "      <td>...</td>\n",
       "      <td>-60.83</td>\n",
       "      <td>0.00</td>\n",
       "      <td>0.00</td>\n",
       "      <td>0.00</td>\n",
       "      <td>0.00</td>\n",
       "      <td>1.0000</td>\n",
       "      <td>1</td>\n",
       "      <td>0</td>\n",
       "      <td>0.0</td>\n",
       "      <td>83</td>\n",
       "    </tr>\n",
       "    <tr>\n",
       "      <th>113925</th>\n",
       "      <td>E3423576946812123E4798D</td>\n",
       "      <td>760946</td>\n",
       "      <td>2013-04-25 13:54:45.017000000</td>\n",
       "      <td>NaN</td>\n",
       "      <td>36</td>\n",
       "      <td>Current</td>\n",
       "      <td>NaN</td>\n",
       "      <td>0.31032</td>\n",
       "      <td>0.2712</td>\n",
       "      <td>0.2612</td>\n",
       "      <td>...</td>\n",
       "      <td>-27.92</td>\n",
       "      <td>0.00</td>\n",
       "      <td>0.00</td>\n",
       "      <td>0.00</td>\n",
       "      <td>0.00</td>\n",
       "      <td>1.0000</td>\n",
       "      <td>0</td>\n",
       "      <td>0</td>\n",
       "      <td>0.0</td>\n",
       "      <td>1</td>\n",
       "    </tr>\n",
       "    <tr>\n",
       "      <th>113926</th>\n",
       "      <td>E34333654295683286C35C2</td>\n",
       "      <td>28121</td>\n",
       "      <td>2006-08-01 10:31:31.143000000</td>\n",
       "      <td>E</td>\n",
       "      <td>36</td>\n",
       "      <td>Defaulted</td>\n",
       "      <td>2007-09-06 00:00:00</td>\n",
       "      <td>0.29776</td>\n",
       "      <td>0.2900</td>\n",
       "      <td>0.2850</td>\n",
       "      <td>...</td>\n",
       "      <td>-9.34</td>\n",
       "      <td>0.00</td>\n",
       "      <td>2536.11</td>\n",
       "      <td>2536.10</td>\n",
       "      <td>0.00</td>\n",
       "      <td>1.0000</td>\n",
       "      <td>0</td>\n",
       "      <td>0</td>\n",
       "      <td>0.0</td>\n",
       "      <td>39</td>\n",
       "    </tr>\n",
       "    <tr>\n",
       "      <th>113927</th>\n",
       "      <td>E3433419834735803891976</td>\n",
       "      <td>322787</td>\n",
       "      <td>2008-04-30 21:25:19.670000000</td>\n",
       "      <td>AA</td>\n",
       "      <td>36</td>\n",
       "      <td>Completed</td>\n",
       "      <td>2011-05-09 00:00:00</td>\n",
       "      <td>0.07469</td>\n",
       "      <td>0.0679</td>\n",
       "      <td>0.0579</td>\n",
       "      <td>...</td>\n",
       "      <td>-68.47</td>\n",
       "      <td>0.00</td>\n",
       "      <td>0.00</td>\n",
       "      <td>0.00</td>\n",
       "      <td>0.00</td>\n",
       "      <td>1.0000</td>\n",
       "      <td>2</td>\n",
       "      <td>0</td>\n",
       "      <td>0.0</td>\n",
       "      <td>194</td>\n",
       "    </tr>\n",
       "    <tr>\n",
       "      <th>113928</th>\n",
       "      <td>E34935176664905343E01EA</td>\n",
       "      <td>510097</td>\n",
       "      <td>2011-06-06 19:02:44.443000000</td>\n",
       "      <td>NaN</td>\n",
       "      <td>36</td>\n",
       "      <td>Completed</td>\n",
       "      <td>2011-09-19 00:00:00</td>\n",
       "      <td>0.22362</td>\n",
       "      <td>0.1899</td>\n",
       "      <td>0.1799</td>\n",
       "      <td>...</td>\n",
       "      <td>-4.41</td>\n",
       "      <td>0.00</td>\n",
       "      <td>0.00</td>\n",
       "      <td>0.00</td>\n",
       "      <td>0.00</td>\n",
       "      <td>1.0000</td>\n",
       "      <td>0</td>\n",
       "      <td>0</td>\n",
       "      <td>0.0</td>\n",
       "      <td>25</td>\n",
       "    </tr>\n",
       "    <tr>\n",
       "      <th>113929</th>\n",
       "      <td>E3553583161337791FCB87F</td>\n",
       "      <td>830413</td>\n",
       "      <td>2013-07-06 17:40:01.657000000</td>\n",
       "      <td>NaN</td>\n",
       "      <td>36</td>\n",
       "      <td>Completed</td>\n",
       "      <td>2014-02-07 00:00:00</td>\n",
       "      <td>0.30285</td>\n",
       "      <td>0.2639</td>\n",
       "      <td>0.2539</td>\n",
       "      <td>...</td>\n",
       "      <td>-6.54</td>\n",
       "      <td>0.00</td>\n",
       "      <td>0.00</td>\n",
       "      <td>0.00</td>\n",
       "      <td>0.00</td>\n",
       "      <td>1.0000</td>\n",
       "      <td>0</td>\n",
       "      <td>0</td>\n",
       "      <td>0.0</td>\n",
       "      <td>26</td>\n",
       "    </tr>\n",
       "    <tr>\n",
       "      <th>113930</th>\n",
       "      <td>E35D3584034795373BCD69A</td>\n",
       "      <td>831523</td>\n",
       "      <td>2013-07-08 10:24:49.700000000</td>\n",
       "      <td>NaN</td>\n",
       "      <td>36</td>\n",
       "      <td>Current</td>\n",
       "      <td>NaN</td>\n",
       "      <td>0.20053</td>\n",
       "      <td>0.1639</td>\n",
       "      <td>0.1539</td>\n",
       "      <td>...</td>\n",
       "      <td>-16.51</td>\n",
       "      <td>0.00</td>\n",
       "      <td>0.00</td>\n",
       "      <td>0.00</td>\n",
       "      <td>0.00</td>\n",
       "      <td>1.0000</td>\n",
       "      <td>0</td>\n",
       "      <td>0</td>\n",
       "      <td>0.0</td>\n",
       "      <td>52</td>\n",
       "    </tr>\n",
       "    <tr>\n",
       "      <th>113931</th>\n",
       "      <td>E36F36005339663245C20F8</td>\n",
       "      <td>1141292</td>\n",
       "      <td>2014-01-16 20:13:08.040000000</td>\n",
       "      <td>NaN</td>\n",
       "      <td>60</td>\n",
       "      <td>Current</td>\n",
       "      <td>NaN</td>\n",
       "      <td>0.15016</td>\n",
       "      <td>0.1274</td>\n",
       "      <td>0.1174</td>\n",
       "      <td>...</td>\n",
       "      <td>-21.23</td>\n",
       "      <td>0.00</td>\n",
       "      <td>0.00</td>\n",
       "      <td>0.00</td>\n",
       "      <td>0.00</td>\n",
       "      <td>1.0000</td>\n",
       "      <td>0</td>\n",
       "      <td>0</td>\n",
       "      <td>0.0</td>\n",
       "      <td>1</td>\n",
       "    </tr>\n",
       "    <tr>\n",
       "      <th>113932</th>\n",
       "      <td>E6D9357655724827169606C</td>\n",
       "      <td>753087</td>\n",
       "      <td>2013-04-14 05:55:02.663000000</td>\n",
       "      <td>NaN</td>\n",
       "      <td>36</td>\n",
       "      <td>Current</td>\n",
       "      <td>NaN</td>\n",
       "      <td>0.22354</td>\n",
       "      <td>0.1864</td>\n",
       "      <td>0.1764</td>\n",
       "      <td>...</td>\n",
       "      <td>-75.58</td>\n",
       "      <td>0.00</td>\n",
       "      <td>0.00</td>\n",
       "      <td>0.00</td>\n",
       "      <td>0.00</td>\n",
       "      <td>1.0000</td>\n",
       "      <td>0</td>\n",
       "      <td>0</td>\n",
       "      <td>0.0</td>\n",
       "      <td>1</td>\n",
       "    </tr>\n",
       "    <tr>\n",
       "      <th>113933</th>\n",
       "      <td>E6DB353036033497292EE43</td>\n",
       "      <td>537216</td>\n",
       "      <td>2011-11-03 20:42:55.333000000</td>\n",
       "      <td>NaN</td>\n",
       "      <td>36</td>\n",
       "      <td>FinalPaymentInProgress</td>\n",
       "      <td>NaN</td>\n",
       "      <td>0.13220</td>\n",
       "      <td>0.1110</td>\n",
       "      <td>0.1010</td>\n",
       "      <td>...</td>\n",
       "      <td>-30.05</td>\n",
       "      <td>0.00</td>\n",
       "      <td>0.00</td>\n",
       "      <td>0.00</td>\n",
       "      <td>0.00</td>\n",
       "      <td>1.0000</td>\n",
       "      <td>0</td>\n",
       "      <td>0</td>\n",
       "      <td>0.0</td>\n",
       "      <td>22</td>\n",
       "    </tr>\n",
       "    <tr>\n",
       "      <th>113934</th>\n",
       "      <td>E6E13596170052029692BB1</td>\n",
       "      <td>1069178</td>\n",
       "      <td>2013-12-13 05:49:12.703000000</td>\n",
       "      <td>NaN</td>\n",
       "      <td>60</td>\n",
       "      <td>Current</td>\n",
       "      <td>NaN</td>\n",
       "      <td>0.23984</td>\n",
       "      <td>0.2150</td>\n",
       "      <td>0.2050</td>\n",
       "      <td>...</td>\n",
       "      <td>-16.91</td>\n",
       "      <td>0.00</td>\n",
       "      <td>0.00</td>\n",
       "      <td>0.00</td>\n",
       "      <td>0.00</td>\n",
       "      <td>1.0000</td>\n",
       "      <td>0</td>\n",
       "      <td>0</td>\n",
       "      <td>0.0</td>\n",
       "      <td>119</td>\n",
       "    </tr>\n",
       "    <tr>\n",
       "      <th>113935</th>\n",
       "      <td>E6EB3531504622671970D9E</td>\n",
       "      <td>539056</td>\n",
       "      <td>2011-11-14 13:18:26.597000000</td>\n",
       "      <td>NaN</td>\n",
       "      <td>60</td>\n",
       "      <td>Completed</td>\n",
       "      <td>2013-08-13 00:00:00</td>\n",
       "      <td>0.28408</td>\n",
       "      <td>0.2605</td>\n",
       "      <td>0.2505</td>\n",
       "      <td>...</td>\n",
       "      <td>-235.05</td>\n",
       "      <td>0.00</td>\n",
       "      <td>0.00</td>\n",
       "      <td>0.00</td>\n",
       "      <td>0.00</td>\n",
       "      <td>1.0000</td>\n",
       "      <td>0</td>\n",
       "      <td>0</td>\n",
       "      <td>0.0</td>\n",
       "      <td>274</td>\n",
       "    </tr>\n",
       "    <tr>\n",
       "      <th>113936</th>\n",
       "      <td>E6ED3600409833199F711B7</td>\n",
       "      <td>1140093</td>\n",
       "      <td>2014-01-15 09:27:37.657000000</td>\n",
       "      <td>NaN</td>\n",
       "      <td>36</td>\n",
       "      <td>Current</td>\n",
       "      <td>NaN</td>\n",
       "      <td>0.13189</td>\n",
       "      <td>0.1039</td>\n",
       "      <td>0.0939</td>\n",
       "      <td>...</td>\n",
       "      <td>-1.70</td>\n",
       "      <td>0.00</td>\n",
       "      <td>0.00</td>\n",
       "      <td>0.00</td>\n",
       "      <td>0.00</td>\n",
       "      <td>1.0000</td>\n",
       "      <td>0</td>\n",
       "      <td>0</td>\n",
       "      <td>0.0</td>\n",
       "      <td>1</td>\n",
       "    </tr>\n",
       "  </tbody>\n",
       "</table>\n",
       "<p>113937 rows × 81 columns</p>\n",
       "</div>"
      ],
      "text/plain": [
       "                     ListingKey  ListingNumber            ListingCreationDate  \\\n",
       "0       1021339766868145413AB3B         193129  2007-08-26 19:09:29.263000000   \n",
       "1       10273602499503308B223C1        1209647  2014-02-27 08:28:07.900000000   \n",
       "2       0EE9337825851032864889A          81716  2007-01-05 15:00:47.090000000   \n",
       "3       0EF5356002482715299901A         658116  2012-10-22 11:02:35.010000000   \n",
       "4       0F023589499656230C5E3E2         909464  2013-09-14 18:38:39.097000000   \n",
       "5       0F05359734824199381F61D        1074836  2013-12-14 08:26:37.093000000   \n",
       "6       0F0A3576754255009D63151         750899  2013-04-12 09:52:56.147000000   \n",
       "7       0F1035772717087366F9EA7         768193  2013-05-05 06:49:27.493000000   \n",
       "8       0F043596202561788EA13D5        1023355  2013-12-02 10:43:39.117000000   \n",
       "9       0F043596202561788EA13D5        1023355  2013-12-02 10:43:39.117000000   \n",
       "10      0F123545674891886D9F106         587746  2012-05-10 07:04:01.577000000   \n",
       "11      0F1734025150298088A5F2B         213551  2007-10-09 20:28:33.640000000   \n",
       "12      0F1A3597143888805163EF7        1081604  2013-12-15 20:01:10.757000000   \n",
       "13      0F1C3583260311305D68F87         840820  2013-07-15 16:28:28.087000000   \n",
       "14      0F353575943675863D1AFC0         757359  2013-04-19 11:17:41.700000000   \n",
       "15      0F483544120452347F48121         577164  2012-04-10 09:14:46.297000000   \n",
       "16      0F4835843081468212F0892         841846  2013-07-16 12:42:48.680000000   \n",
       "17      0FDF336575182398852A8DC          31540  2006-08-15 12:21:09.433000000   \n",
       "18      0FF2357105361877390B58D         716058  2013-02-20 03:48:37.470000000   \n",
       "19      0FFC35866018516621B0D3F         875565  2013-08-21 06:49:02.093000000   \n",
       "20      101635959323992333B3C70        1011916  2013-11-22 11:35:02.987000000   \n",
       "21      1017340630713945364DA6B         241498  2007-11-30 20:33:49.227000000   \n",
       "22      101735700321773921526BF         706927  2013-01-30 09:36:13.783000000   \n",
       "23      101B35764008108187B2EBA         758964  2013-04-22 13:29:19.073000000   \n",
       "24      101B3596709094692AC79C0        1046345  2013-12-03 11:34:46.127000000   \n",
       "25      10223590888942486E3826E         950067  2013-10-02 14:31:09.157000000   \n",
       "26      0F4F3571508214190FD75CB         713131  2013-02-12 18:07:31.690000000   \n",
       "27      0F5034867864161084F3789         463083  2010-06-16 16:23:44.533000000   \n",
       "28      0F53359346357513247D86B         989519  2013-11-02 16:01:28.050000000   \n",
       "29      0F563597161095613517437        1051243  2013-12-17 09:18:33.220000000   \n",
       "...                         ...            ...                            ...   \n",
       "113907  C982359388882926442DE72        1005215  2013-11-09 06:55:05.690000000   \n",
       "113908  C9843500054876019D611A1         486057  2010-11-29 10:40:09.730000000   \n",
       "113909  C98635564651525938EB38E         635880  2012-09-08 10:34:38.837000000   \n",
       "113910  C9873600264828351437CAB        1161059  2014-01-24 19:56:49.960000000   \n",
       "113911  C9883594035073098BC5D51         996496  2013-11-15 11:42:47.540000000   \n",
       "113912  C98A3597264633447D66DF9        1083677  2013-12-16 16:36:00.990000000   \n",
       "113913  D2013482695428940FAD9E3         455673  2010-04-25 15:13:27.963000000   \n",
       "113914  D20533652658825353F6597          30223  2006-08-09 14:34:40.010000000   \n",
       "113915  D2053427325575423785798         374730  2008-07-29 05:22:29.390000000   \n",
       "113916  D2063562664602024E13D82         667047  2012-11-08 20:07:36.600000000   \n",
       "113917  D2063594229009539839457        1028126  2013-11-23 04:52:50.057000000   \n",
       "113918  D207342464194217591D1E1         353488  2008-06-19 12:02:53.300000000   \n",
       "113919  D20C3577637248543A1F80C         772509  2013-05-07 18:49:59.750000000   \n",
       "113920  D20E358076984586576526D         804763  2013-06-11 05:49:40.247000000   \n",
       "113921  D21A33647075665665BE266              4  2005-11-09 20:44:28.847000000   \n",
       "113922  D2293427338962159DA5143         379986  2008-08-08 16:58:54.760000000   \n",
       "113923  E334343080922352965DF86         395877  2008-09-10 08:26:30.537000000   \n",
       "113924  E340356181565702714DBCE         657862  2012-10-20 19:15:52.670000000   \n",
       "113925  E3423576946812123E4798D         760946  2013-04-25 13:54:45.017000000   \n",
       "113926  E34333654295683286C35C2          28121  2006-08-01 10:31:31.143000000   \n",
       "113927  E3433419834735803891976         322787  2008-04-30 21:25:19.670000000   \n",
       "113928  E34935176664905343E01EA         510097  2011-06-06 19:02:44.443000000   \n",
       "113929  E3553583161337791FCB87F         830413  2013-07-06 17:40:01.657000000   \n",
       "113930  E35D3584034795373BCD69A         831523  2013-07-08 10:24:49.700000000   \n",
       "113931  E36F36005339663245C20F8        1141292  2014-01-16 20:13:08.040000000   \n",
       "113932  E6D9357655724827169606C         753087  2013-04-14 05:55:02.663000000   \n",
       "113933  E6DB353036033497292EE43         537216  2011-11-03 20:42:55.333000000   \n",
       "113934  E6E13596170052029692BB1        1069178  2013-12-13 05:49:12.703000000   \n",
       "113935  E6EB3531504622671970D9E         539056  2011-11-14 13:18:26.597000000   \n",
       "113936  E6ED3600409833199F711B7        1140093  2014-01-15 09:27:37.657000000   \n",
       "\n",
       "       CreditGrade  Term              LoanStatus           ClosedDate  \\\n",
       "0                C    36               Completed  2009-08-14 00:00:00   \n",
       "1              NaN    36                 Current                  NaN   \n",
       "2               HR    36               Completed  2009-12-17 00:00:00   \n",
       "3              NaN    36                 Current                  NaN   \n",
       "4              NaN    36                 Current                  NaN   \n",
       "5              NaN    60                 Current                  NaN   \n",
       "6              NaN    36                 Current                  NaN   \n",
       "7              NaN    36                 Current                  NaN   \n",
       "8              NaN    36                 Current                  NaN   \n",
       "9              NaN    36                 Current                  NaN   \n",
       "10             NaN    60                 Current                  NaN   \n",
       "11               C    36               Completed  2008-01-07 00:00:00   \n",
       "12             NaN    36    Past Due (1-15 days)                  NaN   \n",
       "13             NaN    36                 Current                  NaN   \n",
       "14             NaN    60                 Current                  NaN   \n",
       "15             NaN    36               Defaulted  2012-12-19 00:00:00   \n",
       "16             NaN    60                 Current                  NaN   \n",
       "17              AA    36              Chargedoff  2008-05-22 00:00:00   \n",
       "18             NaN    36                 Current                  NaN   \n",
       "19             NaN    60                 Current                  NaN   \n",
       "20             NaN    36                 Current                  NaN   \n",
       "21               D    36               Completed  2010-12-12 00:00:00   \n",
       "22             NaN    36                 Current                  NaN   \n",
       "23             NaN    36               Defaulted  2013-12-26 00:00:00   \n",
       "24             NaN    36                 Current                  NaN   \n",
       "25             NaN    36                 Current                  NaN   \n",
       "26             NaN    60               Completed  2013-10-22 00:00:00   \n",
       "27             NaN    36               Completed  2013-07-03 00:00:00   \n",
       "28             NaN    36                 Current                  NaN   \n",
       "29             NaN    36                 Current                  NaN   \n",
       "...            ...   ...                     ...                  ...   \n",
       "113907         NaN    36                 Current                  NaN   \n",
       "113908         NaN    36               Completed  2011-01-31 00:00:00   \n",
       "113909         NaN    60                 Current                  NaN   \n",
       "113910         NaN    36                 Current                  NaN   \n",
       "113911         NaN    36                 Current                  NaN   \n",
       "113912         NaN    36                 Current                  NaN   \n",
       "113913         NaN    36               Completed  2013-05-05 00:00:00   \n",
       "113914          HR    36               Defaulted  2007-03-19 00:00:00   \n",
       "113915           D    36               Completed  2011-09-28 00:00:00   \n",
       "113916         NaN    36                 Current                  NaN   \n",
       "113917         NaN    36                 Current                  NaN   \n",
       "113918           A    36               Defaulted  2011-01-27 00:00:00   \n",
       "113919         NaN    36                 Current                  NaN   \n",
       "113920         NaN    36                 Current                  NaN   \n",
       "113921          AA    36               Completed  2005-11-25 00:00:00   \n",
       "113922           C    36               Completed  2011-08-19 00:00:00   \n",
       "113923           B    36               Completed  2011-09-23 00:00:00   \n",
       "113924         NaN    60                 Current                  NaN   \n",
       "113925         NaN    36                 Current                  NaN   \n",
       "113926           E    36               Defaulted  2007-09-06 00:00:00   \n",
       "113927          AA    36               Completed  2011-05-09 00:00:00   \n",
       "113928         NaN    36               Completed  2011-09-19 00:00:00   \n",
       "113929         NaN    36               Completed  2014-02-07 00:00:00   \n",
       "113930         NaN    36                 Current                  NaN   \n",
       "113931         NaN    60                 Current                  NaN   \n",
       "113932         NaN    36                 Current                  NaN   \n",
       "113933         NaN    36  FinalPaymentInProgress                  NaN   \n",
       "113934         NaN    60                 Current                  NaN   \n",
       "113935         NaN    60               Completed  2013-08-13 00:00:00   \n",
       "113936         NaN    36                 Current                  NaN   \n",
       "\n",
       "        BorrowerAPR  BorrowerRate  LenderYield    ...     LP_ServiceFees  \\\n",
       "0           0.16516        0.1580       0.1380    ...            -133.18   \n",
       "1           0.12016        0.0920       0.0820    ...               0.00   \n",
       "2           0.28269        0.2750       0.2400    ...             -24.20   \n",
       "3           0.12528        0.0974       0.0874    ...            -108.01   \n",
       "4           0.24614        0.2085       0.1985    ...             -60.27   \n",
       "5           0.15425        0.1314       0.1214    ...             -25.33   \n",
       "6           0.31032        0.2712       0.2612    ...             -22.95   \n",
       "7           0.23939        0.2019       0.1919    ...             -69.21   \n",
       "8           0.07620        0.0629       0.0529    ...             -16.77   \n",
       "9           0.07620        0.0629       0.0529    ...             -16.77   \n",
       "10          0.27462        0.2489       0.2389    ...            -214.04   \n",
       "11          0.15033        0.1325       0.1225    ...              -0.88   \n",
       "12          0.17969        0.1435       0.1335    ...              -3.40   \n",
       "13          0.13138        0.1034       0.0934    ...             -46.42   \n",
       "14          0.11695        0.0949       0.0849    ...            -138.07   \n",
       "15          0.35797        0.3177       0.3077    ...              -9.81   \n",
       "16          0.30748        0.2809       0.2709    ...             -23.01   \n",
       "17          0.13202        0.1250       0.1175    ...             -54.61   \n",
       "18          0.12528        0.0974       0.0874    ...            -121.47   \n",
       "19          0.24754        0.2225       0.2125    ...             -21.61   \n",
       "20          0.16732        0.1314       0.1214    ...             -34.11   \n",
       "21          0.21488        0.2075       0.1975    ...             -51.12   \n",
       "22          0.35356        0.3134       0.3034    ...             -35.80   \n",
       "23          0.28032        0.2419       0.2319    ...              -4.89   \n",
       "24          0.19859        0.1620       0.1520    ...              -6.72   \n",
       "25          0.30182        0.2629       0.2529    ...             -13.11   \n",
       "26          0.30748        0.2809       0.2709    ...             -25.81   \n",
       "27          0.11296        0.0920       0.0820    ...             -64.62   \n",
       "28          0.20268        0.1660       0.1560    ...             -22.56   \n",
       "29          0.15223        0.1239       0.1139    ...             -29.73   \n",
       "...             ...           ...          ...    ...                ...   \n",
       "113907      0.35356        0.3134       0.3034    ...              -9.99   \n",
       "113908      0.35858        0.3220       0.3120    ...             -11.02   \n",
       "113909      0.27554        0.2498       0.2398    ...             -78.65   \n",
       "113910      0.32446        0.2850       0.2750    ...              -3.29   \n",
       "113911      0.25330        0.2155       0.2055    ...             -24.69   \n",
       "113912      0.06726        0.0605       0.0505    ...              -7.15   \n",
       "113913      0.12410        0.1030       0.0930    ...            -129.82   \n",
       "113914      0.25757        0.2500       0.2450    ...              -2.43   \n",
       "113915      0.22237        0.2000       0.1900    ...             -51.71   \n",
       "113916      0.33286        0.2932       0.2832    ...             -43.14   \n",
       "113917      0.32446        0.2850       0.2750    ...              -9.80   \n",
       "113918      0.12201        0.1080       0.0980    ...            -103.49   \n",
       "113919      0.27285        0.2346       0.2246    ...             -25.59   \n",
       "113920      0.35356        0.3134       0.3034    ...             -25.39   \n",
       "113921          NaN        0.0400       0.0350    ...              -0.88   \n",
       "113922      0.15094        0.1295       0.1195    ...             -81.95   \n",
       "113923      0.22378        0.2089       0.1989    ...            -135.50   \n",
       "113924      0.17317        0.1499       0.1399    ...             -60.83   \n",
       "113925      0.31032        0.2712       0.2612    ...             -27.92   \n",
       "113926      0.29776        0.2900       0.2850    ...              -9.34   \n",
       "113927      0.07469        0.0679       0.0579    ...             -68.47   \n",
       "113928      0.22362        0.1899       0.1799    ...              -4.41   \n",
       "113929      0.30285        0.2639       0.2539    ...              -6.54   \n",
       "113930      0.20053        0.1639       0.1539    ...             -16.51   \n",
       "113931      0.15016        0.1274       0.1174    ...             -21.23   \n",
       "113932      0.22354        0.1864       0.1764    ...             -75.58   \n",
       "113933      0.13220        0.1110       0.1010    ...             -30.05   \n",
       "113934      0.23984        0.2150       0.2050    ...             -16.91   \n",
       "113935      0.28408        0.2605       0.2505    ...            -235.05   \n",
       "113936      0.13189        0.1039       0.0939    ...              -1.70   \n",
       "\n",
       "        LP_CollectionFees  LP_GrossPrincipalLoss  LP_NetPrincipalLoss  \\\n",
       "0                    0.00                   0.00                 0.00   \n",
       "1                    0.00                   0.00                 0.00   \n",
       "2                    0.00                   0.00                 0.00   \n",
       "3                    0.00                   0.00                 0.00   \n",
       "4                    0.00                   0.00                 0.00   \n",
       "5                    0.00                   0.00                 0.00   \n",
       "6                    0.00                   0.00                 0.00   \n",
       "7                    0.00                   0.00                 0.00   \n",
       "8                    0.00                   0.00                 0.00   \n",
       "9                    0.00                   0.00                 0.00   \n",
       "10                   0.00                   0.00                 0.00   \n",
       "11                   0.00                   0.00                 0.00   \n",
       "12                   0.00                   0.00                 0.00   \n",
       "13                   0.00                   0.00                 0.00   \n",
       "14                   0.00                   0.00                 0.00   \n",
       "15                   0.00                3790.25              3790.25   \n",
       "16                   0.00                   0.00                 0.00   \n",
       "17                   0.00                6012.65              6012.67   \n",
       "18                   0.00                   0.00                 0.00   \n",
       "19                   0.00                   0.00                 0.00   \n",
       "20                   0.00                   0.00                 0.00   \n",
       "21                   0.00                   0.00                 0.00   \n",
       "22                   0.00                   0.00                 0.00   \n",
       "23                   0.00                1882.27              1882.27   \n",
       "24                   0.00                   0.00                 0.00   \n",
       "25                   0.00                   0.00                 0.00   \n",
       "26                   0.00                   0.00                 0.00   \n",
       "27                   0.00                   0.00                 0.00   \n",
       "28                   0.00                   0.00                 0.00   \n",
       "29                   0.00                   0.00                 0.00   \n",
       "...                   ...                    ...                  ...   \n",
       "113907               0.00                   0.00                 0.00   \n",
       "113908               0.00                   0.00                 0.00   \n",
       "113909               0.00                   0.00                 0.00   \n",
       "113910               0.00                   0.00                 0.00   \n",
       "113911               0.00                   0.00                 0.00   \n",
       "113912               0.00                   0.00                 0.00   \n",
       "113913               0.00                   0.00                 0.00   \n",
       "113914               0.00                2883.01              2883.00   \n",
       "113915             -37.64                   0.00                 0.00   \n",
       "113916               0.00                   0.00                 0.00   \n",
       "113917               0.00                   0.00                 0.00   \n",
       "113918               0.00                2176.53              2176.51   \n",
       "113919               0.00                   0.00                 0.00   \n",
       "113920               0.00                   0.00                 0.00   \n",
       "113921               0.00                   0.00                 0.00   \n",
       "113922               0.00                   0.00                 0.00   \n",
       "113923               0.00                   0.00                 0.00   \n",
       "113924               0.00                   0.00                 0.00   \n",
       "113925               0.00                   0.00                 0.00   \n",
       "113926               0.00                2536.11              2536.10   \n",
       "113927               0.00                   0.00                 0.00   \n",
       "113928               0.00                   0.00                 0.00   \n",
       "113929               0.00                   0.00                 0.00   \n",
       "113930               0.00                   0.00                 0.00   \n",
       "113931               0.00                   0.00                 0.00   \n",
       "113932               0.00                   0.00                 0.00   \n",
       "113933               0.00                   0.00                 0.00   \n",
       "113934               0.00                   0.00                 0.00   \n",
       "113935               0.00                   0.00                 0.00   \n",
       "113936               0.00                   0.00                 0.00   \n",
       "\n",
       "       LP_NonPrincipalRecoverypayments  PercentFunded  Recommendations  \\\n",
       "0                                 0.00         1.0000                0   \n",
       "1                                 0.00         1.0000                0   \n",
       "2                                 0.00         1.0000                0   \n",
       "3                                 0.00         1.0000                0   \n",
       "4                                 0.00         1.0000                0   \n",
       "5                                 0.00         1.0000                0   \n",
       "6                                 0.00         1.0000                0   \n",
       "7                                 0.00         1.0000                0   \n",
       "8                                 0.00         1.0000                0   \n",
       "9                                 0.00         1.0000                0   \n",
       "10                                0.00         1.0000                0   \n",
       "11                                0.00         1.0000                0   \n",
       "12                                0.00         1.0000                0   \n",
       "13                                0.00         1.0000                0   \n",
       "14                                0.00         0.7731                0   \n",
       "15                                0.00         1.0000                0   \n",
       "16                                0.00         1.0000                0   \n",
       "17                              268.96         1.0000                0   \n",
       "18                                0.00         1.0000                0   \n",
       "19                                0.00         1.0000                0   \n",
       "20                                0.00         1.0000                0   \n",
       "21                                0.00         1.0000                0   \n",
       "22                                0.00         1.0000                0   \n",
       "23                                0.00         1.0000                0   \n",
       "24                                0.00         1.0000                0   \n",
       "25                                0.00         1.0000                0   \n",
       "26                                0.00         1.0000                0   \n",
       "27                                0.00         1.0000                0   \n",
       "28                                0.00         1.0000                0   \n",
       "29                                0.00         1.0000                0   \n",
       "...                                ...            ...              ...   \n",
       "113907                            0.00         1.0000                0   \n",
       "113908                            0.00         1.0000                0   \n",
       "113909                            0.00         1.0000                0   \n",
       "113910                            0.00         1.0000                0   \n",
       "113911                            0.00         1.0000                0   \n",
       "113912                            0.00         1.0000                0   \n",
       "113913                            0.00         1.0000                0   \n",
       "113914                            0.00         1.0000                0   \n",
       "113915                            0.00         1.0000                1   \n",
       "113916                            0.00         1.0000                0   \n",
       "113917                            0.00         1.0000                0   \n",
       "113918                            0.00         1.0000                0   \n",
       "113919                            0.00         1.0000                0   \n",
       "113920                            0.00         1.0000                0   \n",
       "113921                            0.00         1.0000                0   \n",
       "113922                            0.00         1.0000                0   \n",
       "113923                            0.00         1.0000                0   \n",
       "113924                            0.00         1.0000                1   \n",
       "113925                            0.00         1.0000                0   \n",
       "113926                            0.00         1.0000                0   \n",
       "113927                            0.00         1.0000                2   \n",
       "113928                            0.00         1.0000                0   \n",
       "113929                            0.00         1.0000                0   \n",
       "113930                            0.00         1.0000                0   \n",
       "113931                            0.00         1.0000                0   \n",
       "113932                            0.00         1.0000                0   \n",
       "113933                            0.00         1.0000                0   \n",
       "113934                            0.00         1.0000                0   \n",
       "113935                            0.00         1.0000                0   \n",
       "113936                            0.00         1.0000                0   \n",
       "\n",
       "       InvestmentFromFriendsCount InvestmentFromFriendsAmount Investors  \n",
       "0                               0                         0.0       258  \n",
       "1                               0                         0.0         1  \n",
       "2                               0                         0.0        41  \n",
       "3                               0                         0.0       158  \n",
       "4                               0                         0.0        20  \n",
       "5                               0                         0.0         1  \n",
       "6                               0                         0.0         1  \n",
       "7                               0                         0.0         1  \n",
       "8                               0                         0.0         1  \n",
       "9                               0                         0.0         1  \n",
       "10                              0                         0.0        19  \n",
       "11                              0                         0.0        53  \n",
       "12                              0                         0.0         1  \n",
       "13                              0                         0.0       171  \n",
       "14                              0                         0.0       371  \n",
       "15                              0                         0.0        10  \n",
       "16                              0                         0.0         8  \n",
       "17                              0                         0.0        85  \n",
       "18                              0                         0.0       303  \n",
       "19                              0                         0.0         1  \n",
       "20                              0                         0.0         1  \n",
       "21                              0                         0.0        53  \n",
       "22                              0                         0.0        94  \n",
       "23                              0                         0.0        30  \n",
       "24                              0                         0.0         1  \n",
       "25                              0                         0.0         3  \n",
       "26                              0                         0.0        37  \n",
       "27                              0                         0.0       121  \n",
       "28                              0                         0.0         1  \n",
       "29                              0                         0.0         1  \n",
       "...                           ...                         ...       ...  \n",
       "113907                          0                         0.0         3  \n",
       "113908                          0                         0.0        98  \n",
       "113909                          0                         0.0         9  \n",
       "113910                          0                         0.0         1  \n",
       "113911                          0                         0.0         1  \n",
       "113912                          0                         0.0         1  \n",
       "113913                          0                         0.0       265  \n",
       "113914                          0                         0.0         1  \n",
       "113915                          0                         0.0       135  \n",
       "113916                          0                         0.0        87  \n",
       "113917                          0                         0.0         1  \n",
       "113918                          0                         0.0       173  \n",
       "113919                          0                         0.0         1  \n",
       "113920                          0                         0.0         1  \n",
       "113921                          0                         0.0         1  \n",
       "113922                          0                         0.0       145  \n",
       "113923                          0                         0.0       270  \n",
       "113924                          0                         0.0        83  \n",
       "113925                          0                         0.0         1  \n",
       "113926                          0                         0.0        39  \n",
       "113927                          0                         0.0       194  \n",
       "113928                          0                         0.0        25  \n",
       "113929                          0                         0.0        26  \n",
       "113930                          0                         0.0        52  \n",
       "113931                          0                         0.0         1  \n",
       "113932                          0                         0.0         1  \n",
       "113933                          0                         0.0        22  \n",
       "113934                          0                         0.0       119  \n",
       "113935                          0                         0.0       274  \n",
       "113936                          0                         0.0         1  \n",
       "\n",
       "[113937 rows x 81 columns]"
      ]
     },
     "execution_count": 3,
     "metadata": {},
     "output_type": "execute_result"
    }
   ],
   "source": [
    "# Lets explore Loan Data\n",
    "LoanData"
   ]
  },
  {
   "cell_type": "code",
   "execution_count": 4,
   "metadata": {},
   "outputs": [
    {
     "data": {
      "text/html": [
       "<div>\n",
       "<style>\n",
       "    .dataframe thead tr:only-child th {\n",
       "        text-align: right;\n",
       "    }\n",
       "\n",
       "    .dataframe thead th {\n",
       "        text-align: left;\n",
       "    }\n",
       "\n",
       "    .dataframe tbody tr th {\n",
       "        vertical-align: top;\n",
       "    }\n",
       "</style>\n",
       "<table border=\"1\" class=\"dataframe\">\n",
       "  <thead>\n",
       "    <tr style=\"text-align: right;\">\n",
       "      <th></th>\n",
       "      <th>Variable</th>\n",
       "      <th>Description</th>\n",
       "    </tr>\n",
       "  </thead>\n",
       "  <tbody>\n",
       "    <tr>\n",
       "      <th>0</th>\n",
       "      <td>ListingKey</td>\n",
       "      <td>Unique key for each listing same value as the ...</td>\n",
       "    </tr>\n",
       "    <tr>\n",
       "      <th>1</th>\n",
       "      <td>ListingNumber</td>\n",
       "      <td>The number that uniquely identifies the listin...</td>\n",
       "    </tr>\n",
       "    <tr>\n",
       "      <th>2</th>\n",
       "      <td>ListingCreationDate</td>\n",
       "      <td>The date the listing was created.</td>\n",
       "    </tr>\n",
       "    <tr>\n",
       "      <th>3</th>\n",
       "      <td>CreditGrade</td>\n",
       "      <td>The Credit rating that was assigned at the tim...</td>\n",
       "    </tr>\n",
       "  </tbody>\n",
       "</table>\n",
       "</div>"
      ],
      "text/plain": [
       "              Variable                                        Description\n",
       "0           ListingKey  Unique key for each listing same value as the ...\n",
       "1        ListingNumber  The number that uniquely identifies the listin...\n",
       "2  ListingCreationDate                  The date the listing was created.\n",
       "3          CreditGrade  The Credit rating that was assigned at the tim..."
      ]
     },
     "execution_count": 4,
     "metadata": {},
     "output_type": "execute_result"
    }
   ],
   "source": [
    "# There are too many variables. Lets choose them from definitions file. I changed original definitions .xlsx file type \n",
    "# into a .csv file\n",
    "VarDef = pd.read_csv('Variable_Definitions.csv')\n",
    "VarDef.head(4)"
   ]
  },
  {
   "cell_type": "markdown",
   "metadata": {
    "scrolled": false
   },
   "source": [
    "I will analyze the dataset by using variables below:\n",
    "\n",
    "1- Term,\n",
    "2- LoanStatus,\n",
    "3- BorrowerAPR,\n",
    "4- ProsperRating (Alpha),\n",
    "5- ProsperScore,\n",
    "6- ListingCategory (numeric),\n",
    "7- EmploymentStatusDuration,\n",
    "8- IncomeRange,\n",
    "9- StatedMonthlyIncome,\n",
    "10- LoanOriginalAmount,\n",
    "\n",
    "So I decided to create a new database using these 10 columns, I called it LoanDataReduced."
   ]
  },
  {
   "cell_type": "code",
   "execution_count": 5,
   "metadata": {
    "collapsed": true
   },
   "outputs": [],
   "source": [
    "LoanDataReduced=LoanData[['Term', 'LoanStatus', 'BorrowerAPR', 'ProsperRating (Alpha)', \n",
    "                          'ProsperScore', 'ListingCategory (numeric)', 'EmploymentStatusDuration', \n",
    "                          'IncomeRange', 'StatedMonthlyIncome', 'LoanOriginalAmount']]"
   ]
  },
  {
   "cell_type": "code",
   "execution_count": 6,
   "metadata": {},
   "outputs": [
    {
     "data": {
      "text/html": [
       "<div>\n",
       "<style>\n",
       "    .dataframe thead tr:only-child th {\n",
       "        text-align: right;\n",
       "    }\n",
       "\n",
       "    .dataframe thead th {\n",
       "        text-align: left;\n",
       "    }\n",
       "\n",
       "    .dataframe tbody tr th {\n",
       "        vertical-align: top;\n",
       "    }\n",
       "</style>\n",
       "<table border=\"1\" class=\"dataframe\">\n",
       "  <thead>\n",
       "    <tr style=\"text-align: right;\">\n",
       "      <th></th>\n",
       "      <th>Term</th>\n",
       "      <th>LoanStatus</th>\n",
       "      <th>BorrowerAPR</th>\n",
       "      <th>ProsperRating (Alpha)</th>\n",
       "      <th>ProsperScore</th>\n",
       "      <th>ListingCategory (numeric)</th>\n",
       "      <th>EmploymentStatusDuration</th>\n",
       "      <th>IncomeRange</th>\n",
       "      <th>StatedMonthlyIncome</th>\n",
       "      <th>LoanOriginalAmount</th>\n",
       "    </tr>\n",
       "  </thead>\n",
       "  <tbody>\n",
       "    <tr>\n",
       "      <th>0</th>\n",
       "      <td>36</td>\n",
       "      <td>Completed</td>\n",
       "      <td>0.16516</td>\n",
       "      <td>NaN</td>\n",
       "      <td>NaN</td>\n",
       "      <td>0</td>\n",
       "      <td>2.0</td>\n",
       "      <td>$25,000-49,999</td>\n",
       "      <td>3083.333333</td>\n",
       "      <td>9425</td>\n",
       "    </tr>\n",
       "    <tr>\n",
       "      <th>1</th>\n",
       "      <td>36</td>\n",
       "      <td>Current</td>\n",
       "      <td>0.12016</td>\n",
       "      <td>A</td>\n",
       "      <td>7.0</td>\n",
       "      <td>2</td>\n",
       "      <td>44.0</td>\n",
       "      <td>$50,000-74,999</td>\n",
       "      <td>6125.000000</td>\n",
       "      <td>10000</td>\n",
       "    </tr>\n",
       "    <tr>\n",
       "      <th>2</th>\n",
       "      <td>36</td>\n",
       "      <td>Completed</td>\n",
       "      <td>0.28269</td>\n",
       "      <td>NaN</td>\n",
       "      <td>NaN</td>\n",
       "      <td>0</td>\n",
       "      <td>NaN</td>\n",
       "      <td>Not displayed</td>\n",
       "      <td>2083.333333</td>\n",
       "      <td>3001</td>\n",
       "    </tr>\n",
       "    <tr>\n",
       "      <th>3</th>\n",
       "      <td>36</td>\n",
       "      <td>Current</td>\n",
       "      <td>0.12528</td>\n",
       "      <td>A</td>\n",
       "      <td>9.0</td>\n",
       "      <td>16</td>\n",
       "      <td>113.0</td>\n",
       "      <td>$25,000-49,999</td>\n",
       "      <td>2875.000000</td>\n",
       "      <td>10000</td>\n",
       "    </tr>\n",
       "    <tr>\n",
       "      <th>4</th>\n",
       "      <td>36</td>\n",
       "      <td>Current</td>\n",
       "      <td>0.24614</td>\n",
       "      <td>D</td>\n",
       "      <td>4.0</td>\n",
       "      <td>2</td>\n",
       "      <td>44.0</td>\n",
       "      <td>$100,000+</td>\n",
       "      <td>9583.333333</td>\n",
       "      <td>15000</td>\n",
       "    </tr>\n",
       "  </tbody>\n",
       "</table>\n",
       "</div>"
      ],
      "text/plain": [
       "   Term LoanStatus  BorrowerAPR ProsperRating (Alpha)  ProsperScore  \\\n",
       "0    36  Completed      0.16516                   NaN           NaN   \n",
       "1    36    Current      0.12016                     A           7.0   \n",
       "2    36  Completed      0.28269                   NaN           NaN   \n",
       "3    36    Current      0.12528                     A           9.0   \n",
       "4    36    Current      0.24614                     D           4.0   \n",
       "\n",
       "   ListingCategory (numeric)  EmploymentStatusDuration     IncomeRange  \\\n",
       "0                          0                       2.0  $25,000-49,999   \n",
       "1                          2                      44.0  $50,000-74,999   \n",
       "2                          0                       NaN   Not displayed   \n",
       "3                         16                     113.0  $25,000-49,999   \n",
       "4                          2                      44.0       $100,000+   \n",
       "\n",
       "   StatedMonthlyIncome  LoanOriginalAmount  \n",
       "0          3083.333333                9425  \n",
       "1          6125.000000               10000  \n",
       "2          2083.333333                3001  \n",
       "3          2875.000000               10000  \n",
       "4          9583.333333               15000  "
      ]
     },
     "execution_count": 6,
     "metadata": {},
     "output_type": "execute_result"
    }
   ],
   "source": [
    "LoanDataReduced.head(5)"
   ]
  },
  {
   "cell_type": "code",
   "execution_count": 7,
   "metadata": {
    "scrolled": true
   },
   "outputs": [
    {
     "name": "stdout",
     "output_type": "stream",
     "text": [
      "(113937, 10)\n",
      "Term                           int64\n",
      "LoanStatus                    object\n",
      "BorrowerAPR                  float64\n",
      "ProsperRating (Alpha)         object\n",
      "ProsperScore                 float64\n",
      "ListingCategory (numeric)      int64\n",
      "EmploymentStatusDuration     float64\n",
      "IncomeRange                   object\n",
      "StatedMonthlyIncome          float64\n",
      "LoanOriginalAmount             int64\n",
      "dtype: object\n"
     ]
    }
   ],
   "source": [
    "# Lets explore shape & data types\n",
    "print(LoanDataReduced.shape)\n",
    "print(LoanDataReduced.dtypes)"
   ]
  },
  {
   "cell_type": "code",
   "execution_count": 8,
   "metadata": {
    "scrolled": true
   },
   "outputs": [
    {
     "name": "stdout",
     "output_type": "stream",
     "text": [
      "                Term    BorrowerAPR  ProsperScore  ListingCategory (numeric)  \\\n",
      "count  113937.000000  113912.000000  84853.000000              113937.000000   \n",
      "mean       40.830248       0.218828      5.950067                   2.774209   \n",
      "std        10.436212       0.080364      2.376501                   3.996797   \n",
      "min        12.000000       0.006530      1.000000                   0.000000   \n",
      "25%        36.000000       0.156290      4.000000                   1.000000   \n",
      "50%        36.000000       0.209760      6.000000                   1.000000   \n",
      "75%        36.000000       0.283810      8.000000                   3.000000   \n",
      "max        60.000000       0.512290     11.000000                  20.000000   \n",
      "\n",
      "       EmploymentStatusDuration  StatedMonthlyIncome  LoanOriginalAmount  \n",
      "count             106312.000000         1.139370e+05        113937.00000  \n",
      "mean                  96.071582         5.608026e+03          8337.01385  \n",
      "std                   94.480605         7.478497e+03          6245.80058  \n",
      "min                    0.000000         0.000000e+00          1000.00000  \n",
      "25%                   26.000000         3.200333e+03          4000.00000  \n",
      "50%                   67.000000         4.666667e+03          6500.00000  \n",
      "75%                  137.000000         6.825000e+03         12000.00000  \n",
      "max                  755.000000         1.750003e+06         35000.00000  \n"
     ]
    }
   ],
   "source": [
    "# descriptive statistics for numeric variables\n",
    "print(LoanDataReduced.describe())"
   ]
  },
  {
   "cell_type": "markdown",
   "metadata": {
    "collapsed": true
   },
   "source": [
    "#### Lets further explore columns with data type as object. \n",
    "    LoanStatus can take values of:\n",
    "            Cancelled,  Chargedoff, Completed, Current, Defaulted, FinalPaymentInProgress and PastDue.\n",
    "    ProsperRating (Alpha) can take values such as:\n",
    "            between A, B, C, needs further investigation ...\n",
    "    IncomeRange can take values such as:\n",
    "            $25,000-49,999, needs further investigation ..."
   ]
  },
  {
   "cell_type": "code",
   "execution_count": 9,
   "metadata": {
    "scrolled": true
   },
   "outputs": [
    {
     "data": {
      "text/plain": [
       "Current                   56576\n",
       "Completed                 38074\n",
       "Chargedoff                11992\n",
       "Defaulted                  5018\n",
       "Past Due (1-15 days)        806\n",
       "Past Due (31-60 days)       363\n",
       "Past Due (61-90 days)       313\n",
       "Past Due (91-120 days)      304\n",
       "Past Due (16-30 days)       265\n",
       "FinalPaymentInProgress      205\n",
       "Past Due (>120 days)         16\n",
       "Cancelled                     5\n",
       "Name: LoanStatus, dtype: int64"
      ]
     },
     "execution_count": 9,
     "metadata": {},
     "output_type": "execute_result"
    }
   ],
   "source": [
    "# Lets see how many different values 'LoanStatus' can take?\n",
    "LoanDataReduced['LoanStatus'].value_counts()"
   ]
  },
  {
   "cell_type": "code",
   "execution_count": 10,
   "metadata": {
    "scrolled": false
   },
   "outputs": [
    {
     "name": "stderr",
     "output_type": "stream",
     "text": [
      "C:\\Program Files (x86)\\Microsoft Visual Studio\\Shared\\Anaconda3_64\\lib\\site-packages\\pandas\\core\\generic.py:3924: SettingWithCopyWarning: \n",
      "A value is trying to be set on a copy of a slice from a DataFrame\n",
      "\n",
      "See the caveats in the documentation: http://pandas.pydata.org/pandas-docs/stable/indexing.html#indexing-view-versus-copy\n",
      "  self._update_inplace(new_data)\n"
     ]
    }
   ],
   "source": [
    "LoanDataReduced['LoanStatus'].replace(to_replace=['Cancelled', 'FinalPaymentInProgress'], value='Completed', inplace=True)"
   ]
  },
  {
   "cell_type": "code",
   "execution_count": 12,
   "metadata": {},
   "outputs": [
    {
     "name": "stderr",
     "output_type": "stream",
     "text": [
      "C:\\Program Files (x86)\\Microsoft Visual Studio\\Shared\\Anaconda3_64\\lib\\site-packages\\pandas\\core\\generic.py:3924: SettingWithCopyWarning: \n",
      "A value is trying to be set on a copy of a slice from a DataFrame\n",
      "\n",
      "See the caveats in the documentation: http://pandas.pydata.org/pandas-docs/stable/indexing.html#indexing-view-versus-copy\n",
      "  self._update_inplace(new_data)\n"
     ]
    }
   ],
   "source": [
    "LoanDataReduced['LoanStatus'].replace(to_replace=['Past Due (1-15 days)', 'Past Due (16-30 days)', 'Past Due (31-60 days)', \n",
    "                                                  'Past Due (61-90 days)', 'Past Due (91-120 days)', 'Past Due (>120 days)'], \n",
    "                                      value='Past Due', inplace=True)"
   ]
  },
  {
   "cell_type": "code",
   "execution_count": 13,
   "metadata": {},
   "outputs": [
    {
     "data": {
      "text/plain": [
       "Current       56576\n",
       "Completed     38284\n",
       "Chargedoff    11992\n",
       "Defaulted      5018\n",
       "Past Due       2067\n",
       "Name: LoanStatus, dtype: int64"
      ]
     },
     "execution_count": 13,
     "metadata": {},
     "output_type": "execute_result"
    }
   ],
   "source": [
    "LoanDataReduced['LoanStatus'].value_counts()"
   ]
  },
  {
   "cell_type": "code",
   "execution_count": 9,
   "metadata": {},
   "outputs": [
    {
     "data": {
      "text/plain": [
       "C     18345\n",
       "B     15581\n",
       "A     14551\n",
       "D     14274\n",
       "E      9795\n",
       "HR     6935\n",
       "AA     5372\n",
       "Name: ProsperRating (Alpha), dtype: int64"
      ]
     },
     "execution_count": 9,
     "metadata": {},
     "output_type": "execute_result"
    }
   ],
   "source": [
    "# Lets see how many different values 'ProsperRating (Alpha)' can take?\n",
    "LoanDataReduced['ProsperRating (Alpha)'].value_counts()"
   ]
  },
  {
   "cell_type": "code",
   "execution_count": 10,
   "metadata": {
    "scrolled": true
   },
   "outputs": [
    {
     "data": {
      "text/plain": [
       "$25,000-49,999    32192\n",
       "$50,000-74,999    31050\n",
       "$100,000+         17337\n",
       "$75,000-99,999    16916\n",
       "Not displayed      7741\n",
       "$1-24,999          7274\n",
       "Not employed        806\n",
       "$0                  621\n",
       "Name: IncomeRange, dtype: int64"
      ]
     },
     "execution_count": 10,
     "metadata": {},
     "output_type": "execute_result"
    }
   ],
   "source": [
    "# Lets see how many different values 'IncomeRange' can take?\n",
    "LoanDataReduced['IncomeRange'].value_counts()"
   ]
  },
  {
   "cell_type": "code",
   "execution_count": 11,
   "metadata": {
    "scrolled": true
   },
   "outputs": [
    {
     "name": "stderr",
     "output_type": "stream",
     "text": [
      "C:\\Program Files (x86)\\Microsoft Visual Studio\\Shared\\Anaconda3_64\\lib\\site-packages\\pandas\\core\\generic.py:3924: SettingWithCopyWarning: \n",
      "A value is trying to be set on a copy of a slice from a DataFrame\n",
      "\n",
      "See the caveats in the documentation: http://pandas.pydata.org/pandas-docs/stable/indexing.html#indexing-view-versus-copy\n",
      "  self._update_inplace(new_data)\n"
     ]
    }
   ],
   "source": [
    "LoanDataReduced['IncomeRange'].replace(to_replace=['Not displayed', 'Not employed'], value='$0', inplace=True)"
   ]
  },
  {
   "cell_type": "code",
   "execution_count": 14,
   "metadata": {},
   "outputs": [
    {
     "name": "stderr",
     "output_type": "stream",
     "text": [
      "C:\\Program Files (x86)\\Microsoft Visual Studio\\Shared\\Anaconda3_64\\lib\\site-packages\\ipykernel_launcher.py:17: SettingWithCopyWarning: \n",
      "A value is trying to be set on a copy of a slice from a DataFrame.\n",
      "Try using .loc[row_indexer,col_indexer] = value instead\n",
      "\n",
      "See the caveats in the documentation: http://pandas.pydata.org/pandas-docs/stable/indexing.html#indexing-view-versus-copy\n"
     ]
    }
   ],
   "source": [
    "#convert LoanStatus, ProsperRating (Alpha), and Income Range into ordered categorical types\n",
    "\n",
    "from pandas.api.types import CategoricalDtype\n",
    "\n",
    "ordinal_var_dict = {'LoanStatus': ['Completed', 'Current', 'Past Due', 'Defaulted', 'Chargedoff'],\n",
    "                    'ProsperRating (Alpha)': ['AA', 'A', 'B', 'C', 'D', 'E', 'HR'],\n",
    "                    'IncomeRange': ['$100,000+', '$75,000-99,999', '$50,000-74,999', '$25,000-49,999', '$1-24,999', '$0']}\n",
    "\n",
    "for var in ordinal_var_dict:\n",
    "    pd_ver = pd.__version__.split(\".\")\n",
    "    if (int(pd_ver[0]) > 0) or (int(pd_ver[1]) >= 21):\n",
    "        ordered_var = pd.api.types.CategoricalDtype(ordered = True,\n",
    "                                                   categories = ordinal_var_dict[var])\n",
    "        LoanDataReduced[var] = LoanDataReduced[var].astype(ordered_var)\n",
    "    else:\n",
    "        LoanDataReduced[var] = LoanDataReduced[var].astype('category', ordered = True, \n",
    "                                                          categories = ordinal_var_dict[var])"
   ]
  },
  {
   "cell_type": "markdown",
   "metadata": {},
   "source": [
    "### What is the structure of your dataset?\n",
    "\n",
    "> There are 113,937 loans in the dataset with 10 features: \n",
    "(Term, LoanStatus, BorrowerAPR,  \n",
    "ProsperRating (Alpha), ProsperScore, ListingCategory (numeric), EmploymentStatusDuration, \n",
    "IncomeRange, StatedMonthlyIncome, LoanOriginalAmount)\n",
    "\n",
    "> Most variables are numeric in nature, other than 3 objects. \n",
    "The variables LoanStatus, ProsperRating (Alpha) & IncomeRange are ordered factor variables with the following levels.\n",
    "\n",
    "> (best) ——> (worst) <br>\n",
    "LoanStatus: Completed, Current, PastDue, Defaulted, Chargedoff <br>\n",
    "ProsperRating (Alpha): AA, A, B, C, D, E, HR <br>\n",
    "Income Range: 100,000+, 75,000-99,999, 50,000-74,999, 25,000-49,999, 1-24,999, 0 <br>\n",
    "\n",
    "### What is/are the main feature(s) of interest in your dataset?\n",
    "\n",
    "> I'm most interested in figuring out what affects the BorrowerAPR the most?  \n",
    "\n",
    "### What features in the dataset do you think will help support your investigation into your feature(s) of interest?\n",
    "\n",
    "> I expect that ProsperScore and ProsperRating (Alpha) will have the strongest effect on the BorrowerAPR. \n",
    "Borrowers who have bad ratings should pay larger rates. Vice versa good ratings should pay smaller rates. \n",
    "\n",
    "> EmploymentStatusDuration, IncomeRange, StatedMonthlyIncome should also affect the rate. But in much lesser extent. Or from my limited financial knowledge I think it that way right now. We will see..."
   ]
  },
  {
   "cell_type": "markdown",
   "metadata": {},
   "source": [
    "## Univariate Exploration\n",
    "\n",
    "> Let's start by looking at the distribution of the BorrowerAPR. Because this is our main interst. "
   ]
  },
  {
   "cell_type": "markdown",
   "metadata": {},
   "source": [
    "Before going any further since BorrowerAPR is our main interest. We need to drop any rows from the database that has NA in its borrowerAPR row."
   ]
  },
  {
   "cell_type": "code",
   "execution_count": 14,
   "metadata": {
    "collapsed": true
   },
   "outputs": [],
   "source": [
    "LoanDataReduced = LoanDataReduced.dropna(axis=0, subset=['BorrowerAPR'])"
   ]
  },
  {
   "cell_type": "code",
   "execution_count": 15,
   "metadata": {},
   "outputs": [
    {
     "name": "stdout",
     "output_type": "stream",
     "text": [
      "113912\n"
     ]
    }
   ],
   "source": [
    "print(LoanDataReduced.shape[0])"
   ]
  },
  {
   "cell_type": "code",
   "execution_count": 16,
   "metadata": {
    "scrolled": true
   },
   "outputs": [
    {
     "data": {
      "image/png": "[encoded data removed]",
      "text/plain": [
       "<matplotlib.figure.Figure at 0x286cd5dcd30>"
      ]
     },
     "metadata": {},
     "output_type": "display_data"
    }
   ],
   "source": [
    "# OK now we have 113912 rows of data, lets see Standard-scaled plot of BorrowerAPR\n",
    "\n",
    "binsize = 0.005\n",
    "bins = np.arange(LoanDataReduced['BorrowerAPR'].min(), LoanDataReduced['BorrowerAPR'].max()+binsize, binsize)\n",
    "\n",
    "plt.figure(figsize=[15, 5])\n",
    "plt.hist(data = LoanDataReduced, x = 'BorrowerAPR', bins = bins)\n",
    "plt.xlabel('Rate')\n",
    "plt.show()"
   ]
  },
  {
   "cell_type": "markdown",
   "metadata": {},
   "source": [
    ">BorrowerAPR Distribution takes off around a rate of 0.05 and increases up to 0.1 and then there appears a sharp decrease. After that there are usual increases and decreases and finally it touches down around 0.4. It looks like a normal distribution with a mean around 0.2. But there is a large spike at around 0.35.\n",
    "\n"
   ]
  },
  {
   "cell_type": "code",
   "execution_count": 17,
   "metadata": {
    "scrolled": true
   },
   "outputs": [
    {
     "data": {
      "image/png": "[encoded data removed]",
      "text/plain": [
       "<matplotlib.figure.Figure at 0x286ce4deb70>"
      ]
     },
     "metadata": {},
     "output_type": "display_data"
    }
   ],
   "source": [
    "binsize = 0.001\n",
    "bins = np.arange(0.34, 0.39, binsize)\n",
    "\n",
    "plt.figure(figsize=[15, 5])\n",
    "plt.hist(data = LoanDataReduced, x = 'BorrowerAPR', bins = bins)\n",
    "plt.xlim([0.34,0.39])\n",
    "plt.xlabel('Rate')\n",
    "plt.show()"
   ]
  },
  {
   "cell_type": "markdown",
   "metadata": {},
   "source": [
    "We really do have a big spike at around 0.357 with over 3500 times repeated; while the other rates are much lower. I wonder if this is a specific rate for people with low ratings? "
   ]
  },
  {
   "cell_type": "markdown",
   "metadata": {},
   "source": [
    "> Now lets plot EmploymentStatusDuration which is a parameter I wanted to investigate.\n",
    "I have to clean NaNs from the EmploymentStatusDuration column, in order to plot histogram without errors."
   ]
  },
  {
   "cell_type": "code",
   "execution_count": 18,
   "metadata": {},
   "outputs": [
    {
     "data": {
      "text/plain": [
       "7600"
      ]
     },
     "execution_count": 18,
     "metadata": {},
     "output_type": "execute_result"
    }
   ],
   "source": [
    "len(LoanDataReduced) - LoanDataReduced['EmploymentStatusDuration'].count()"
   ]
  },
  {
   "cell_type": "markdown",
   "metadata": {},
   "source": [
    "There are 7600 NaN values in the EmploymentStatusDuration column. We need to get rid of them and replace them with zeros, so that we may plot the histogram of it. "
   ]
  },
  {
   "cell_type": "code",
   "execution_count": 19,
   "metadata": {
    "collapsed": true
   },
   "outputs": [],
   "source": [
    "LoanDataReduced['EmploymentStatusDuration'] = LoanDataReduced['EmploymentStatusDuration'].apply(pd.to_numeric)"
   ]
  },
  {
   "cell_type": "code",
   "execution_count": 20,
   "metadata": {
    "collapsed": true
   },
   "outputs": [],
   "source": [
    "LoanDataReduced['EmploymentStatusDuration'] = LoanDataReduced['EmploymentStatusDuration'].replace(np.nan, 0)"
   ]
  },
  {
   "cell_type": "code",
   "execution_count": 21,
   "metadata": {
    "scrolled": false
   },
   "outputs": [
    {
     "data": {
      "image/png": "[encoded data removed]",
      "text/plain": [
       "<matplotlib.figure.Figure at 0x286ced21fd0>"
      ]
     },
     "metadata": {},
     "output_type": "display_data"
    }
   ],
   "source": [
    "# Standard-scaled plot of Employment Status Duration\n",
    "\n",
    "binsize = 10\n",
    "bins = np.arange(0, LoanDataReduced['EmploymentStatusDuration'].max()+binsize, binsize)\n",
    "\n",
    "plt.figure(figsize=[15, 5])\n",
    "plt.hist(data = LoanDataReduced, x = 'EmploymentStatusDuration', bins = bins)\n",
    "plt.xlabel('Employment Duration (Months)')\n",
    "plt.show()"
   ]
  },
  {
   "cell_type": "markdown",
   "metadata": {},
   "source": [
    "Employment Duration is very right skewed distribution. It looks like an exponential distribution other than initial 0 value, which may also be created from NaN values and also because people didn't stated it.I want to clear the 0 values because it may introduce errors later on (such as division by zero), so drop them."
   ]
  },
  {
   "cell_type": "code",
   "execution_count": 22,
   "metadata": {
    "collapsed": true
   },
   "outputs": [],
   "source": [
    "LoanDataReduced= LoanDataReduced[LoanDataReduced['EmploymentStatusDuration'] != 0]"
   ]
  },
  {
   "cell_type": "code",
   "execution_count": 23,
   "metadata": {},
   "outputs": [
    {
     "name": "stdout",
     "output_type": "stream",
     "text": [
      "104778\n"
     ]
    }
   ],
   "source": [
    "print(LoanDataReduced.shape[0])"
   ]
  },
  {
   "cell_type": "markdown",
   "metadata": {},
   "source": [
    "Log scale may be useful here. So lets try it. It starts from 0 months and decreases as it increases in x axis. There seems like a shoulder from 50 to 100 and 120-140."
   ]
  },
  {
   "cell_type": "code",
   "execution_count": 24,
   "metadata": {
    "scrolled": true
   },
   "outputs": [
    {
     "data": {
      "image/png": "[encoded data removed]",
      "text/plain": [
       "<matplotlib.figure.Figure at 0x286cea82208>"
      ]
     },
     "metadata": {},
     "output_type": "display_data"
    }
   ],
   "source": [
    "# there's a long tail in the distribution, so let's put it on a log scale instead\n",
    "\n",
    "log_binsize = 0.04\n",
    "bins = 10 ** np.arange(0, np.log10(LoanDataReduced['EmploymentStatusDuration'].max())+log_binsize, log_binsize)\n",
    "\n",
    "plt.figure(figsize=[15, 5])\n",
    "plt.hist(data = LoanDataReduced, x = 'EmploymentStatusDuration', bins = bins)\n",
    "plt.xscale('log')\n",
    "plt.xticks([1e1, 1e2, 4e2, 8e2], ['10', '100', '400', '800'])\n",
    "plt.xlabel('Employment Duration (Months)')\n",
    "plt.show()"
   ]
  },
  {
   "cell_type": "markdown",
   "metadata": {},
   "source": [
    "From the graph you may observe that small values (less than 10 months) are splitted up. Rest is an unimodal distrubiton with its center around 90 months. So borrowers are generally young people with an job experience of 7 years or less...\n",
    "\n",
    "These loans might be used to home ownership, weddings and such... We will investigate them later. "
   ]
  },
  {
   "cell_type": "code",
   "execution_count": 25,
   "metadata": {
    "scrolled": true
   },
   "outputs": [
    {
     "data": {
      "image/png": "[encoded data removed]",
      "text/plain": [
       "<matplotlib.figure.Figure at 0x286ced21ba8>"
      ]
     },
     "metadata": {},
     "output_type": "display_data"
    }
   ],
   "source": [
    "# Standard-scaled plot of StatedMonthlyIncome\n",
    "\n",
    "binsize = 1000\n",
    "bins = np.arange(LoanDataReduced['StatedMonthlyIncome'].min(), LoanDataReduced['StatedMonthlyIncome'].max()+binsize, binsize)\n",
    "\n",
    "plt.figure(figsize=[15, 5])\n",
    "plt.hist(data = LoanDataReduced, x = 'StatedMonthlyIncome', bins = bins)\n",
    "plt.xlabel('Monthly Income ($)')\n",
    "plt.show()"
   ]
  },
  {
   "cell_type": "markdown",
   "metadata": {},
   "source": [
    "Most of the data is set to the far left, this suggests strong outliers on the right. \n",
    "It's worth taking a bit of time to identify these outliers and see if they need to be filtered out of the data.\n",
    "It looks like there are some very rich people who borrowed money from the bank that have monthly income above a million dollars!"
   ]
  },
  {
   "cell_type": "code",
   "execution_count": 26,
   "metadata": {
    "scrolled": false
   },
   "outputs": [
    {
     "data": {
      "image/png": "[encoded data removed]",
      "text/plain": [
       "<matplotlib.figure.Figure at 0x286cdd59fd0>"
      ]
     },
     "metadata": {},
     "output_type": "display_data"
    }
   ],
   "source": [
    "# Need to zoom further into 0-10000 range and disregard super rich people.\n",
    "\n",
    "binsize = 500\n",
    "bins = np.arange(0, 10000, 500)\n",
    "\n",
    "plt.figure(figsize=[15, 5])\n",
    "plt.hist(data = LoanDataReduced, x = 'StatedMonthlyIncome', bins = bins)\n",
    "plt.xlim([0,10000])\n",
    "plt.xlabel('Monthly Income')\n",
    "plt.show()"
   ]
  },
  {
   "cell_type": "markdown",
   "metadata": {},
   "source": [
    "From this zoomed in graph we may observe that monthly income has a gaussian distribution with a mean 4000 and 6000. Which make sense when we think about whole population. "
   ]
  },
  {
   "cell_type": "code",
   "execution_count": 27,
   "metadata": {
    "scrolled": true
   },
   "outputs": [
    {
     "data": {
      "text/plain": [
       "9267"
      ]
     },
     "execution_count": 27,
     "metadata": {},
     "output_type": "execute_result"
    }
   ],
   "source": [
    "# How many people have monthly income above 10,000 out of this 113,912 people\n",
    "over_10K_income = sum(LoanDataReduced['StatedMonthlyIncome']>10000)\n",
    "over_10K_income"
   ]
  },
  {
   "cell_type": "code",
   "execution_count": 28,
   "metadata": {},
   "outputs": [
    {
     "data": {
      "text/plain": [
       "8.8444139036820708"
      ]
     },
     "execution_count": 28,
     "metadata": {},
     "output_type": "execute_result"
    }
   ],
   "source": [
    "percent_above_10K_income = over_10K_income/LoanDataReduced.shape[0]*100\n",
    "percent_above_10K_income"
   ]
  },
  {
   "cell_type": "code",
   "execution_count": 29,
   "metadata": {},
   "outputs": [
    {
     "data": {
      "text/plain": [
       "14"
      ]
     },
     "execution_count": 29,
     "metadata": {},
     "output_type": "execute_result"
    }
   ],
   "source": [
    "over_100K_income = sum(LoanDataReduced['StatedMonthlyIncome']>100000)\n",
    "over_100K_income"
   ]
  },
  {
   "cell_type": "code",
   "execution_count": 30,
   "metadata": {
    "scrolled": true
   },
   "outputs": [
    {
     "data": {
      "text/plain": [
       "0.013361583538529079"
      ]
     },
     "execution_count": 30,
     "metadata": {},
     "output_type": "execute_result"
    }
   ],
   "source": [
    "percent_above_100K_income = over_100K_income/LoanDataReduced.shape[0]*100\n",
    "percent_above_100K_income"
   ]
  },
  {
   "cell_type": "code",
   "execution_count": 31,
   "metadata": {
    "scrolled": false
   },
   "outputs": [
    {
     "name": "stdout",
     "output_type": "stream",
     "text": [
      "        StatedMonthlyIncome\n",
      "8066           4.166667e+05\n",
      "17411          4.833333e+05\n",
      "35218          1.083333e+05\n",
      "45028          1.500000e+05\n",
      "53014          6.185478e+05\n",
      "53167          1.750003e+06\n",
      "56867          1.850818e+05\n",
      "57133          4.666667e+05\n",
      "59298          1.208333e+05\n",
      "78431          1.033341e+05\n",
      "80075          1.583333e+05\n",
      "82831          2.500000e+05\n",
      "111265         1.087500e+05\n",
      "113270         3.944000e+05\n"
     ]
    }
   ],
   "source": [
    "# select low outliers, using criteria eyeballed from the plots\n",
    "\n",
    "high_outliers = (LoanDataReduced['StatedMonthlyIncome']>100000)\n",
    "\n",
    "print(LoanDataReduced.loc[high_outliers,['StatedMonthlyIncome']])"
   ]
  },
  {
   "cell_type": "markdown",
   "metadata": {},
   "source": [
    "This is very illuminating. From the original figure where we coded LoanDataReduced['StatedMonthlyIncome'].max()+binsize\n",
    "\n",
    "In the plot x-axis strecht to 1,750 K which means 1,75 e+06. And super rich people data is all e+05s but there it is in row 53167 with an monthly income of 1.75 e+06. \n",
    "\n",
    "Only 1 guy and it really distorts our graph. This may be a typo but there are certainly billioners all over the world so it might be true. "
   ]
  },
  {
   "cell_type": "code",
   "execution_count": 32,
   "metadata": {
    "scrolled": true
   },
   "outputs": [
    {
     "data": {
      "text/html": [
       "<div>\n",
       "<style>\n",
       "    .dataframe thead tr:only-child th {\n",
       "        text-align: right;\n",
       "    }\n",
       "\n",
       "    .dataframe thead th {\n",
       "        text-align: left;\n",
       "    }\n",
       "\n",
       "    .dataframe tbody tr th {\n",
       "        vertical-align: top;\n",
       "    }\n",
       "</style>\n",
       "<table border=\"1\" class=\"dataframe\">\n",
       "  <thead>\n",
       "    <tr style=\"text-align: right;\">\n",
       "      <th></th>\n",
       "      <th>Term</th>\n",
       "      <th>BorrowerAPR</th>\n",
       "      <th>ProsperRating (Alpha)</th>\n",
       "      <th>ProsperScore</th>\n",
       "      <th>ListingCategory (numeric)</th>\n",
       "      <th>EmploymentStatusDuration</th>\n",
       "      <th>IncomeRange</th>\n",
       "      <th>StatedMonthlyIncome</th>\n",
       "      <th>LoanOriginalAmount</th>\n",
       "    </tr>\n",
       "  </thead>\n",
       "  <tbody>\n",
       "    <tr>\n",
       "      <th>53167</th>\n",
       "      <td>36</td>\n",
       "      <td>0.35797</td>\n",
       "      <td>HR</td>\n",
       "      <td>4.0</td>\n",
       "      <td>3</td>\n",
       "      <td>114.0</td>\n",
       "      <td>$100,000+</td>\n",
       "      <td>1.750003e+06</td>\n",
       "      <td>4000</td>\n",
       "    </tr>\n",
       "  </tbody>\n",
       "</table>\n",
       "</div>"
      ],
      "text/plain": [
       "       Term  BorrowerAPR ProsperRating (Alpha)  ProsperScore  \\\n",
       "53167    36      0.35797                    HR           4.0   \n",
       "\n",
       "       ListingCategory (numeric)  EmploymentStatusDuration IncomeRange  \\\n",
       "53167                          3                     114.0   $100,000+   \n",
       "\n",
       "       StatedMonthlyIncome  LoanOriginalAmount  \n",
       "53167         1.750003e+06                4000  "
      ]
     },
     "execution_count": 32,
     "metadata": {},
     "output_type": "execute_result"
    }
   ],
   "source": [
    "super_rich = LoanDataReduced['StatedMonthlyIncome']>1000000\n",
    "LoanDataReduced[super_rich]"
   ]
  },
  {
   "cell_type": "markdown",
   "metadata": {},
   "source": [
    "OK. This is also very illuminating. Because this guy has the worst rating. He took 4K from the bank but he already has 1750K income. This does not make any sense, so I drop this row. It must be a mistake. "
   ]
  },
  {
   "cell_type": "code",
   "execution_count": 33,
   "metadata": {},
   "outputs": [
    {
     "data": {
      "text/plain": [
       "618547.83333299996"
      ]
     },
     "execution_count": 33,
     "metadata": {},
     "output_type": "execute_result"
    }
   ],
   "source": [
    "# Removing the outlier (errornous entry) and testing it.\n",
    "\n",
    "LoanDataReduced.drop(53167, inplace=True)\n",
    "LoanDataReduced['StatedMonthlyIncome'].max()"
   ]
  },
  {
   "cell_type": "code",
   "execution_count": 34,
   "metadata": {
    "scrolled": true
   },
   "outputs": [
    {
     "data": {
      "text/html": [
       "<div>\n",
       "<style>\n",
       "    .dataframe thead tr:only-child th {\n",
       "        text-align: right;\n",
       "    }\n",
       "\n",
       "    .dataframe thead th {\n",
       "        text-align: left;\n",
       "    }\n",
       "\n",
       "    .dataframe tbody tr th {\n",
       "        vertical-align: top;\n",
       "    }\n",
       "</style>\n",
       "<table border=\"1\" class=\"dataframe\">\n",
       "  <thead>\n",
       "    <tr style=\"text-align: right;\">\n",
       "      <th></th>\n",
       "      <th>Term</th>\n",
       "      <th>BorrowerAPR</th>\n",
       "      <th>ProsperRating (Alpha)</th>\n",
       "      <th>ProsperScore</th>\n",
       "      <th>ListingCategory (numeric)</th>\n",
       "      <th>EmploymentStatusDuration</th>\n",
       "      <th>IncomeRange</th>\n",
       "      <th>StatedMonthlyIncome</th>\n",
       "      <th>LoanOriginalAmount</th>\n",
       "    </tr>\n",
       "  </thead>\n",
       "  <tbody>\n",
       "    <tr>\n",
       "      <th>8066</th>\n",
       "      <td>36</td>\n",
       "      <td>0.35643</td>\n",
       "      <td>HR</td>\n",
       "      <td>4.0</td>\n",
       "      <td>1</td>\n",
       "      <td>183.0</td>\n",
       "      <td>$100,000+</td>\n",
       "      <td>416666.666667</td>\n",
       "      <td>2000</td>\n",
       "    </tr>\n",
       "    <tr>\n",
       "      <th>17411</th>\n",
       "      <td>36</td>\n",
       "      <td>0.35643</td>\n",
       "      <td>E</td>\n",
       "      <td>5.0</td>\n",
       "      <td>1</td>\n",
       "      <td>121.0</td>\n",
       "      <td>$100,000+</td>\n",
       "      <td>483333.333333</td>\n",
       "      <td>7500</td>\n",
       "    </tr>\n",
       "    <tr>\n",
       "      <th>35218</th>\n",
       "      <td>36</td>\n",
       "      <td>0.07389</td>\n",
       "      <td>AA</td>\n",
       "      <td>10.0</td>\n",
       "      <td>3</td>\n",
       "      <td>233.0</td>\n",
       "      <td>$100,000+</td>\n",
       "      <td>108333.333333</td>\n",
       "      <td>1000</td>\n",
       "    </tr>\n",
       "    <tr>\n",
       "      <th>45028</th>\n",
       "      <td>36</td>\n",
       "      <td>0.33973</td>\n",
       "      <td>E</td>\n",
       "      <td>2.0</td>\n",
       "      <td>1</td>\n",
       "      <td>97.0</td>\n",
       "      <td>$100,000+</td>\n",
       "      <td>150000.000000</td>\n",
       "      <td>4000</td>\n",
       "    </tr>\n",
       "    <tr>\n",
       "      <th>53014</th>\n",
       "      <td>12</td>\n",
       "      <td>0.25785</td>\n",
       "      <td>D</td>\n",
       "      <td>3.0</td>\n",
       "      <td>3</td>\n",
       "      <td>117.0</td>\n",
       "      <td>$100,000+</td>\n",
       "      <td>618547.833333</td>\n",
       "      <td>4000</td>\n",
       "    </tr>\n",
       "    <tr>\n",
       "      <th>56867</th>\n",
       "      <td>36</td>\n",
       "      <td>0.11144</td>\n",
       "      <td>NaN</td>\n",
       "      <td>NaN</td>\n",
       "      <td>0</td>\n",
       "      <td>8.0</td>\n",
       "      <td>$100,000+</td>\n",
       "      <td>185081.750000</td>\n",
       "      <td>25000</td>\n",
       "    </tr>\n",
       "    <tr>\n",
       "      <th>57133</th>\n",
       "      <td>36</td>\n",
       "      <td>0.35643</td>\n",
       "      <td>E</td>\n",
       "      <td>5.0</td>\n",
       "      <td>2</td>\n",
       "      <td>271.0</td>\n",
       "      <td>$100,000+</td>\n",
       "      <td>466666.666667</td>\n",
       "      <td>4000</td>\n",
       "    </tr>\n",
       "    <tr>\n",
       "      <th>59298</th>\n",
       "      <td>36</td>\n",
       "      <td>0.24246</td>\n",
       "      <td>C</td>\n",
       "      <td>6.0</td>\n",
       "      <td>20</td>\n",
       "      <td>91.0</td>\n",
       "      <td>$100,000+</td>\n",
       "      <td>120833.333333</td>\n",
       "      <td>15000</td>\n",
       "    </tr>\n",
       "    <tr>\n",
       "      <th>78431</th>\n",
       "      <td>36</td>\n",
       "      <td>0.20253</td>\n",
       "      <td>NaN</td>\n",
       "      <td>NaN</td>\n",
       "      <td>0</td>\n",
       "      <td>10.0</td>\n",
       "      <td>$100,000+</td>\n",
       "      <td>103334.083333</td>\n",
       "      <td>5000</td>\n",
       "    </tr>\n",
       "    <tr>\n",
       "      <th>80075</th>\n",
       "      <td>36</td>\n",
       "      <td>0.20217</td>\n",
       "      <td>C</td>\n",
       "      <td>6.0</td>\n",
       "      <td>1</td>\n",
       "      <td>58.0</td>\n",
       "      <td>$100,000+</td>\n",
       "      <td>158333.333333</td>\n",
       "      <td>25000</td>\n",
       "    </tr>\n",
       "    <tr>\n",
       "      <th>82831</th>\n",
       "      <td>36</td>\n",
       "      <td>0.31012</td>\n",
       "      <td>E</td>\n",
       "      <td>3.0</td>\n",
       "      <td>1</td>\n",
       "      <td>137.0</td>\n",
       "      <td>$100,000+</td>\n",
       "      <td>250000.000000</td>\n",
       "      <td>4000</td>\n",
       "    </tr>\n",
       "    <tr>\n",
       "      <th>111265</th>\n",
       "      <td>60</td>\n",
       "      <td>0.20593</td>\n",
       "      <td>B</td>\n",
       "      <td>9.0</td>\n",
       "      <td>1</td>\n",
       "      <td>84.0</td>\n",
       "      <td>$100,000+</td>\n",
       "      <td>108750.000000</td>\n",
       "      <td>12765</td>\n",
       "    </tr>\n",
       "    <tr>\n",
       "      <th>113270</th>\n",
       "      <td>36</td>\n",
       "      <td>0.22712</td>\n",
       "      <td>C</td>\n",
       "      <td>6.0</td>\n",
       "      <td>7</td>\n",
       "      <td>173.0</td>\n",
       "      <td>$100,000+</td>\n",
       "      <td>394400.000000</td>\n",
       "      <td>2000</td>\n",
       "    </tr>\n",
       "  </tbody>\n",
       "</table>\n",
       "</div>"
      ],
      "text/plain": [
       "        Term  BorrowerAPR ProsperRating (Alpha)  ProsperScore  \\\n",
       "8066      36      0.35643                    HR           4.0   \n",
       "17411     36      0.35643                     E           5.0   \n",
       "35218     36      0.07389                    AA          10.0   \n",
       "45028     36      0.33973                     E           2.0   \n",
       "53014     12      0.25785                     D           3.0   \n",
       "56867     36      0.11144                   NaN           NaN   \n",
       "57133     36      0.35643                     E           5.0   \n",
       "59298     36      0.24246                     C           6.0   \n",
       "78431     36      0.20253                   NaN           NaN   \n",
       "80075     36      0.20217                     C           6.0   \n",
       "82831     36      0.31012                     E           3.0   \n",
       "111265    60      0.20593                     B           9.0   \n",
       "113270    36      0.22712                     C           6.0   \n",
       "\n",
       "        ListingCategory (numeric)  EmploymentStatusDuration IncomeRange  \\\n",
       "8066                            1                     183.0   $100,000+   \n",
       "17411                           1                     121.0   $100,000+   \n",
       "35218                           3                     233.0   $100,000+   \n",
       "45028                           1                      97.0   $100,000+   \n",
       "53014                           3                     117.0   $100,000+   \n",
       "56867                           0                       8.0   $100,000+   \n",
       "57133                           2                     271.0   $100,000+   \n",
       "59298                          20                      91.0   $100,000+   \n",
       "78431                           0                      10.0   $100,000+   \n",
       "80075                           1                      58.0   $100,000+   \n",
       "82831                           1                     137.0   $100,000+   \n",
       "111265                          1                      84.0   $100,000+   \n",
       "113270                          7                     173.0   $100,000+   \n",
       "\n",
       "        StatedMonthlyIncome  LoanOriginalAmount  \n",
       "8066          416666.666667                2000  \n",
       "17411         483333.333333                7500  \n",
       "35218         108333.333333                1000  \n",
       "45028         150000.000000                4000  \n",
       "53014         618547.833333                4000  \n",
       "56867         185081.750000               25000  \n",
       "57133         466666.666667                4000  \n",
       "59298         120833.333333               15000  \n",
       "78431         103334.083333                5000  \n",
       "80075         158333.333333               25000  \n",
       "82831         250000.000000                4000  \n",
       "111265        108750.000000               12765  \n",
       "113270        394400.000000                2000  "
      ]
     },
     "execution_count": 34,
     "metadata": {},
     "output_type": "execute_result"
    }
   ],
   "source": [
    "very_rich = LoanDataReduced['StatedMonthlyIncome']>100000\n",
    "LoanDataReduced[very_rich]"
   ]
  },
  {
   "cell_type": "markdown",
   "metadata": {},
   "source": [
    "Some of the entries are suspicious: \n",
    "ProsperRating (Alpha) = HR  (8066)\n",
    "ProsperRating (Alpha) = NaN (56867, 78431)"
   ]
  },
  {
   "cell_type": "code",
   "execution_count": 35,
   "metadata": {
    "collapsed": true
   },
   "outputs": [],
   "source": [
    "LoanDataReduced.drop([8066, 56867, 78431], inplace=True)"
   ]
  },
  {
   "cell_type": "code",
   "execution_count": 36,
   "metadata": {},
   "outputs": [
    {
     "data": {
      "text/plain": [
       "21038"
      ]
     },
     "execution_count": 36,
     "metadata": {},
     "output_type": "execute_result"
    }
   ],
   "source": [
    "len(LoanDataReduced) - LoanDataReduced['ProsperScore'].count()"
   ]
  },
  {
   "cell_type": "code",
   "execution_count": 37,
   "metadata": {
    "collapsed": true
   },
   "outputs": [],
   "source": [
    "LoanDataReduced = LoanDataReduced.dropna(axis=0, subset=['ProsperScore'])"
   ]
  },
  {
   "cell_type": "code",
   "execution_count": 38,
   "metadata": {
    "scrolled": false
   },
   "outputs": [
    {
     "data": {
      "image/png": "[encoded data removed]",
      "text/plain": [
       "<matplotlib.figure.Figure at 0x286cdca8c50>"
      ]
     },
     "metadata": {},
     "output_type": "display_data"
    }
   ],
   "source": [
    "binsize = 1\n",
    "bins = np.arange(0, 12, 1)\n",
    "\n",
    "plt.figure(figsize=[15, 5])\n",
    "plt.hist(data = LoanDataReduced, x = 'ProsperScore', bins = bins+0.5)\n",
    "plt.xlabel('Score')\n",
    "plt.show()"
   ]
  },
  {
   "cell_type": "markdown",
   "metadata": {},
   "source": [
    "ProsperScore variable has a nice Gaussian Distribution. 4 and 8 slightly more than 5 and 7 though.  "
   ]
  },
  {
   "cell_type": "code",
   "execution_count": 39,
   "metadata": {
    "scrolled": false
   },
   "outputs": [
    {
     "data": {
      "image/png": "[encoded data removed]",
      "text/plain": [
       "<matplotlib.figure.Figure at 0x286ce207be0>"
      ]
     },
     "metadata": {},
     "output_type": "display_data"
    }
   ],
   "source": [
    "# Standard-scaled plot of LoanOriginalAmount\n",
    "\n",
    "binsize = 1000\n",
    "bins = np.arange(LoanDataReduced['LoanOriginalAmount'].min(), LoanDataReduced['LoanOriginalAmount'].max()+binsize, binsize)\n",
    "\n",
    "plt.figure(figsize=[15, 5])\n",
    "plt.hist(data = LoanDataReduced, x = 'LoanOriginalAmount', bins = bins)\n",
    "plt.xlabel('$')\n",
    "plt.show()"
   ]
  },
  {
   "cell_type": "markdown",
   "metadata": {},
   "source": [
    "From the histogram one may observe that 5K, 10K, 15K, etc... has more frequented. Because people and bankers generally love to work with round figures. "
   ]
  },
  {
   "cell_type": "code",
   "execution_count": 40,
   "metadata": {
    "scrolled": false
   },
   "outputs": [
    {
     "data": {
      "image/png": "[encoded data removed]",
      "text/plain": [
       "<matplotlib.figure.Figure at 0x286dabe4e80>"
      ]
     },
     "metadata": {},
     "output_type": "display_data"
    }
   ],
   "source": [
    "# Standard-scaled plot of ListingCategory (numeric)\n",
    "\n",
    "binsize = 1\n",
    "bins = np.arange(LoanDataReduced['ListingCategory (numeric)'].min(), LoanDataReduced['ListingCategory (numeric)'].max()+binsize, binsize)\n",
    "\n",
    "plt.figure(figsize=[15, 5])\n",
    "plt.hist(data = LoanDataReduced, x = 'ListingCategory (numeric)', bins = bins)\n",
    "plt.xlabel('List Number')\n",
    "plt.show()"
   ]
  },
  {
   "cell_type": "markdown",
   "metadata": {},
   "source": [
    "Wow thats a lot of Category Number 1: Debt Consolidation, and Second is 7: Other. Thats very suprising to me."
   ]
  },
  {
   "cell_type": "code",
   "execution_count": 41,
   "metadata": {
    "scrolled": true
   },
   "outputs": [
    {
     "data": {
      "text/plain": [
       "1     52413\n",
       "7      9102\n",
       "2      6749\n",
       "3      5239\n",
       "6      2215\n",
       "13     1954\n",
       "15     1501\n",
       "18      879\n",
       "14      865\n",
       "20      767\n",
       "19      761\n",
       "16      302\n",
       "5       268\n",
       "11      217\n",
       "8       199\n",
       "10       91\n",
       "9        85\n",
       "12       58\n",
       "17       51\n",
       "0        20\n",
       "Name: ListingCategory (numeric), dtype: int64"
      ]
     },
     "execution_count": 41,
     "metadata": {},
     "output_type": "execute_result"
    }
   ],
   "source": [
    "LoanDataReduced['ListingCategory (numeric)'].value_counts()"
   ]
  },
  {
   "cell_type": "code",
   "execution_count": 42,
   "metadata": {
    "scrolled": true
   },
   "outputs": [
    {
     "data": {
      "image/png": "[encoded data removed]",
      "text/plain": [
       "<matplotlib.figure.Figure at 0x286cdca8c88>"
      ]
     },
     "metadata": {},
     "output_type": "display_data"
    }
   ],
   "source": [
    "# Standard-scaled plot of Term\n",
    "\n",
    "binsize = 1\n",
    "bins = np.arange(LoanDataReduced['Term'].min(), LoanDataReduced['Term'].max()+binsize, binsize)\n",
    "\n",
    "plt.figure(figsize=[15, 5])\n",
    "plt.hist(data = LoanDataReduced, x = 'Term', bins = bins)\n",
    "plt.xlabel('Months')\n",
    "plt.show()"
   ]
  },
  {
   "cell_type": "markdown",
   "metadata": {},
   "source": [
    "Wow thats also very suprising. Loans are mostly for 3 year period. Some are 5 and very little amount of 1 year loans. Now this makes sense much more because I don't expect home mortgages here. Or other large amount loans can not be expected here.   "
   ]
  },
  {
   "cell_type": "code",
   "execution_count": 43,
   "metadata": {},
   "outputs": [
    {
     "name": "stdout",
     "output_type": "stream",
     "text": [
      "83736\n"
     ]
    }
   ],
   "source": [
    "print(LoanDataReduced.shape[0])"
   ]
  },
  {
   "cell_type": "code",
   "execution_count": 15,
   "metadata": {
    "scrolled": true
   },
   "outputs": [
    {
     "data": {
      "image/png": "[encoded data removed]",
      "text/plain": [
       "<matplotlib.figure.Figure at 0x1fb46edb9e8>"
      ]
     },
     "metadata": {},
     "output_type": "display_data"
    }
   ],
   "source": [
    "# I cliamed that (with my very limited knowledge of finance) ProsperRating (Alpha) might be very important on rate. \n",
    "# But lets see three together to get an idea of each ordinal variable's distribution.\n",
    "\n",
    "fig, ax = plt.subplots(nrows=3, figsize = [15,8])\n",
    "\n",
    "default_color = sb.color_palette()[0]\n",
    "sb.countplot(data = LoanDataReduced, x = 'LoanStatus', color = default_color, ax = ax[0])\n",
    "sb.countplot(data = LoanDataReduced, x = 'ProsperRating (Alpha)', color = default_color, ax = ax[1])\n",
    "sb.countplot(data = LoanDataReduced, x = 'IncomeRange', color = default_color, ax = ax[2])\n",
    "\n",
    "plt.show()"
   ]
  },
  {
   "cell_type": "markdown",
   "metadata": {},
   "source": [
    "Loan Status showed that our dataset consists of mainly Current & Completed Loans. Bad Loans are much less. Though there is a significant amount of Chargedoff loans, followed by defaulted and past due loans. \n",
    "\n",
    "If we look at the Rating (Alpha) distribution we may see that it is very much like a bell shaped curve. Funnyly it really looks like a midterm grades coming from a university class, where grades are mostly C's and some A+ (AA in our case) and some F's (HR in our case).\n",
    "\n",
    "When we investigate the income level chart we see that income level is mostly between 25K to 75K. Poor people (less than 25K) are less in our dataset."
   ]
  },
  {
   "cell_type": "markdown",
   "metadata": {},
   "source": [
    "### Discuss the distribution(s) of your variable(s) of interest. Were there any unusual points? Did you need to perform any transformations?\n",
    "\n",
    "> BorrowerAPR did not draw the histogram at the first try. This is because there are NaNs in the original dataframe. Therefore I dropped the NaNs first. 25 rows dropped and 113,912 remained. Distribution graph looks like a Gaussian Distribution with a large spike around 0.35. Closer look revealed it is around 0.357 with 3500 times repeated. \n",
    "\n",
    "\n",
    "### Of the features you investigated, were there any unusual distributions? Did you perform any operations on the data to tidy, adjust, or change the form of the data? If so, why did you do this?\n",
    "\n",
    "> EmploymentStatusDuration had 7600 NaNs in it. And also some zeros. I removed all of them. It is very right skewed dist, almost a classical example of an exponential distribution. If you plot the log chart you see small values are splitted up and otherwise unimodal distrubiton with its center around 90 months. This means loaners are generally young people with around 7 years of job experience. This also may mean that they are for home ownership, wedding expenditures etc.. \n",
    "\n",
    "> If you get the histogram of StatedMonthlyIncome and use min and max values to draw. There has been so much emptiness in the plot. Because some people stated that they have income level above a million dollars per month. Further look reveals that 17% has income over 10K per month, and only 17 people has stated an income level over 100K per month. There is a person with a 1750 K monthly income! which is ridicoulus. But if you look at the row, he has a HR rating and got only 4K from the bank. It think this is a mistake so I removed it. I also removed potentially wrong super rich people entries which are outliers for my data.\n",
    "\n",
    "> ProsperScore: I have dropped rows without ProsperScore, since it is very important for the rate. After that it has a nice Gaussian Dsitribution. \n",
    "\n",
    "> Listing Category (numeric): Well no changes at this stage. But a lot of loans are taken for Debt Consilidation, which is very suprsing to me. I have always though it would be for home buying or wedding expenses. \n",
    "\n",
    "> Term: Variable expalined a lot. Because now I know that these are short term loans. Mostly 3 year long ones. \n",
    "\n",
    "> Rating Alpha looked fine. for Income Level I put Not displayed and Not employed values into 0 dollars income. \n",
    "\n",
    "> Overall: I started with 113,937 and continoued with 83,736 rows."
   ]
  },
  {
   "cell_type": "markdown",
   "metadata": {},
   "source": [
    "## Bivariate Exploration\n",
    "\n",
    "> In this section, investigate relationships between pairs of variables in your\n",
    "data. Make sure the variables that you cover here have been introduced in some\n",
    "fashion in the previous section (univariate exploration)."
   ]
  },
  {
   "cell_type": "code",
   "execution_count": 16,
   "metadata": {
    "collapsed": true
   },
   "outputs": [],
   "source": [
    "numeric_vars = ['BorrowerAPR', 'EmploymentStatusDuration', 'StatedMonthlyIncome', \n",
    "                'Term', 'ProsperScore', 'ListingCategory (numeric)', 'LoanOriginalAmount']\n",
    "categoric_vars = ['LoanStatus', 'ProsperRating (Alpha)', 'IncomeRange']"
   ]
  },
  {
   "cell_type": "code",
   "execution_count": 46,
   "metadata": {
    "scrolled": true
   },
   "outputs": [
    {
     "data": {
      "image/png": "[encoded data removed]",
      "text/plain": [
       "<matplotlib.figure.Figure at 0x286ced1e0b8>"
      ]
     },
     "metadata": {},
     "output_type": "display_data"
    }
   ],
   "source": [
    "# correlation plot\n",
    "plt.figure(figsize = [8, 5])\n",
    "sb.heatmap(LoanDataReduced[numeric_vars].corr(), annot = True, fmt = '.3f',\n",
    "           cmap = 'vlag_r', center = 0)\n",
    "plt.show()"
   ]
  },
  {
   "cell_type": "markdown",
   "metadata": {},
   "source": [
    " "
   ]
  },
  {
   "cell_type": "markdown",
   "metadata": {},
   "source": [
    "# plot matrix: sample 500 loans\n",
    "\n",
    "samples = np.random.choice(LoanDataReduced.shape[0], 500, replace = False)\n",
    "LoanDataReduced_samp = LoanDataReduced.loc[samples,:]\n",
    "\n",
    "g = sb.PairGrid(data = LoanDataReduced_samp, vars = numeric_vars)\n",
    "g = g.map_diag(plt.hist, bins = 20);\n",
    "g.map_offdiag(plt.scatter)"
   ]
  },
  {
   "cell_type": "markdown",
   "metadata": {},
   "source": [
    "The highest correlation between BorrowerAPR and rest of the numeric variables is ProsperScore which is negative 0.67. This is understandable since better Score should give you lower rates. But I expected it much more close to 1. LoanOriginalAmout comes second with only 0.426. 3rd is StatedMonthlyIncome with a very loose 0.148. \n",
    "\n",
    "EmploymentStatusDuration is not correlated with any of the variables. \n",
    "\n",
    "StatedMonthlyIncome slightly correlated with LoanOriginalAmount. \n",
    "\n",
    "Term slightly correlated with LoanOriginalAmount. \n",
    "\n",
    "ProsperScore is correlated with BorrowerAPR and secondly and slightly with LoanOriginalAmount. \n",
    "\n",
    "ListingCategory (numeric) slightly correlated with LoanOriginalAmount.\n",
    "\n",
    "Strangely, and news to me that LoanOriginalAmount is more in correlation with other variables. \n"
   ]
  },
  {
   "cell_type": "code",
   "execution_count": 17,
   "metadata": {
    "scrolled": false
   },
   "outputs": [
    {
     "data": {
      "text/plain": [
       "<matplotlib.figure.Figure at 0x1fb46edb978>"
      ]
     },
     "metadata": {},
     "output_type": "display_data"
    },
    {
     "data": {
      "image/png": "[encoded data removed]",
      "text/plain": [
       "<matplotlib.figure.Figure at 0x1fb46ed8898>"
      ]
     },
     "metadata": {},
     "output_type": "display_data"
    }
   ],
   "source": [
    "# plot matrix of numeric features against categorical features.\n",
    "\n",
    "samples = np.random.choice(LoanDataReduced.shape[0], 2000, replace = False)\n",
    "LoanDataReduced_samp = LoanDataReduced.loc[samples,:]\n",
    "\n",
    "def boxgrid(x, y, **kwargs):\n",
    "    \"\"\" Quick hack for creating box plots with seaborn's PairGrid. \"\"\"\n",
    "    default_color = sb.color_palette()[0]\n",
    "    sb.boxplot(x, y, color = default_color)\n",
    "\n",
    "plt.figure(figsize = [10, 10])\n",
    "g = sb.PairGrid(data = LoanDataReduced_samp, y_vars = ['BorrowerAPR', 'ProsperScore'], x_vars = categoric_vars,\n",
    "                size = 3, aspect = 1.5)\n",
    "g.map(boxgrid)\n",
    "plt.show();"
   ]
  },
  {
   "cell_type": "markdown",
   "metadata": {},
   "source": [
    "LoanStatus vs BorrowerAPR reveals that mean values of bad statuses are on the high side comparing to the mean values of the good statuses. \n",
    "\n",
    "LoanStatus vs ProsperScore has some interesting features because defaulted and current columns have same mean scores. IQs of the Past Due is lower comparing to others. This may be because of the fact that people with the low scores tend to miss the due dates of their loans. \n",
    "\n",
    "ProsperRating (Alpha) vs BorrowerAPR shows a clear step up box plot. As you improve in your rating score your interest rate systematically drops. Though you may see some people with AA ratings have higher rates than A ratings. This phenomenon also can be observed in every next rating. WE also can see outliers at B rating with very high interest rate. And Conversly at D with very low rates. HR rating is strange it is mostly have 0.35 highest rating. And Outliers span from 0.40 to all the way down to 0.20.\n",
    "\n",
    "IncomeRange vs BorrowerAPR is a strange plot. When we observe means it is clear that if you have less income your interest rate increases which is reasonable because as you have less income you may shy away from paying your interest and instead pay for your basic needs. But when you look at the IQs you see that whether you have low or high income you may get lower rates. This means that it is more important that you pay on time. Strange thing is that people who declared 0 dollars of income also got good rates. Though minimum got 0.15. I think these people may be housewifes, or students.\n",
    "\n",
    "ProsperRating (Alpha) vs ProsperScore supposed to be very related and it is in the boxplot. Mean values constantly decrease as you move from left to right. Strangely from min and max values you see that people with D ratings may have 10 as score. Also AA rating have outliers down to score 4. Which is also very intersting. \n",
    "\n",
    "IncomeRange vs ProsperScore plot is very illuminating. 100K income has a wider distribution than 75K, even though they both have same mean, min, max and IQ3 only IQ1 is different. With 100K is more in score. Similarly 75K and 50K has everything same except mean with mean score is worse for 50K. To sum up all Income Ranges have wide distributions for ProsperScores."
   ]
  },
  {
   "cell_type": "code",
   "execution_count": 21,
   "metadata": {
    "scrolled": true
   },
   "outputs": [
    {
     "data": {
      "image/png": "[encoded data removed]",
      "text/plain": [
       "<matplotlib.figure.Figure at 0x1fb54b4c208>"
      ]
     },
     "metadata": {},
     "output_type": "display_data"
    }
   ],
   "source": [
    "plt.figure(figsize = [15, 8])\n",
    "\n",
    "# LoanStatus vs. ProsperRating (Alpha)\n",
    "plt.subplot(3, 1, 1)\n",
    "sb.countplot(data = LoanDataReduced, x = 'LoanStatus', hue = 'ProsperRating (Alpha)', palette = 'Reds')\n",
    "\n",
    "# IncomeRange vs. ProsperRating (Alpha)\n",
    "ax = plt.subplot(3, 1, 2)\n",
    "sb.countplot(data = LoanDataReduced, x = 'IncomeRange', hue = 'ProsperRating (Alpha)', palette = 'Blues')\n",
    "ax.legend(ncol = 2)\n",
    "\n",
    "# LoanStatus vs. IncomeRange\n",
    "ax = plt.subplot(3, 1, 3)\n",
    "sb.countplot(data = LoanDataReduced, x = 'LoanStatus', hue = 'IncomeRange', palette = 'Greens')\n",
    "ax.legend(loc = 1, ncol = 2)\n",
    "\n",
    "plt.show()"
   ]
  },
  {
   "cell_type": "markdown",
   "metadata": {
    "collapsed": true
   },
   "source": [
    "LoanStatus vs. ProsperRating (Alpha) does not tell much. Only thing intersting is there are some AA and A ratings on bad statuses. \n",
    "\n",
    "IncomeRange vs. ProsperRating (Alpha) AA ratings are in every income level though percentage decreases with decreasing income level. Similarly HR percentage increases with decreasing income level. \n",
    "\n",
    "LoanStatus vs. IncomeRange reveals that bad credits are generally with 25K-49K range; however good ones more on the 50K-75K range. "
   ]
  },
  {
   "cell_type": "code",
   "execution_count": 23,
   "metadata": {
    "scrolled": true
   },
   "outputs": [
    {
     "data": {
      "image/png": "[encoded data removed]",
      "text/plain": [
       "<matplotlib.figure.Figure at 0x1fb545637b8>"
      ]
     },
     "metadata": {},
     "output_type": "display_data"
    }
   ],
   "source": [
    "# scatter plot of BorrowerAPR vs. ProsperScore, with log transform on BorrowerAPR axis\n",
    "\n",
    "plt.figure(figsize = [15, 6])\n",
    "plt.scatter(data = LoanDataReduced, x = 'ProsperScore', y = 'BorrowerAPR', alpha = 1/10)\n",
    "plt.xlim([0, 12])\n",
    "plt.xlabel('ProsperScore')\n",
    "plt.yscale('log')\n",
    "plt.yticks([0.05, 0.1, 0.2, 0.5], [0.05, 0.1, 0.2, 0.5])\n",
    "plt.ylabel('BorrowerAPR')\n",
    "plt.show()"
   ]
  },
  {
   "cell_type": "markdown",
   "metadata": {
    "collapsed": true
   },
   "source": [
    "This plot clearly suggests that as you increase your ProsperScore you will get better interest rates. Let's now investigate the relation between LoanOriginalAmount and APR; our second related variable in a similar graph. "
   ]
  },
  {
   "cell_type": "code",
   "execution_count": 30,
   "metadata": {
    "scrolled": false
   },
   "outputs": [
    {
     "data": {
      "image/png": "[encoded data removed]",
      "text/plain": [
       "<matplotlib.figure.Figure at 0x1fb45caf208>"
      ]
     },
     "metadata": {},
     "output_type": "display_data"
    }
   ],
   "source": [
    "plt.figure(figsize = [15, 6])\n",
    "plt.scatter(data = LoanDataReduced, x = 'LoanOriginalAmount', y = 'BorrowerAPR', alpha = 1/10)\n",
    "plt.xlim([0, 40000])\n",
    "plt.xlabel('USD')\n",
    "plt.yscale('log')\n",
    "plt.yticks([0.05, 0.1, 0.2, 0.5], [0.05, 0.1, 0.2, 0.5])\n",
    "plt.ylabel('BorrowerAPR')\n",
    "plt.show()"
   ]
  },
  {
   "cell_type": "code",
   "execution_count": null,
   "metadata": {
    "collapsed": true
   },
   "outputs": [],
   "source": [
    "Comments..."
   ]
  },
  {
   "cell_type": "code",
   "execution_count": 31,
   "metadata": {
    "collapsed": true
   },
   "outputs": [],
   "source": [
    "def cuberoot_trans(x, inverse = False):\n",
    "    \"\"\" quick function for computing cube root and cube operations \"\"\"\n",
    "    if not inverse:\n",
    "        return x ** (1/3)\n",
    "    else:\n",
    "        return x ** 3"
   ]
  },
  {
   "cell_type": "code",
   "execution_count": 39,
   "metadata": {
    "scrolled": true
   },
   "outputs": [
    {
     "name": "stderr",
     "output_type": "stream",
     "text": [
      "C:\\Program Files (x86)\\Microsoft Visual Studio\\Shared\\Anaconda3_64\\lib\\site-packages\\ipykernel_launcher.py:3: SettingWithCopyWarning: \n",
      "A value is trying to be set on a copy of a slice from a DataFrame.\n",
      "Try using .loc[row_indexer,col_indexer] = value instead\n",
      "\n",
      "See the caveats in the documentation: http://pandas.pydata.org/pandas-docs/stable/indexing.html#indexing-view-versus-copy\n",
      "  This is separate from the ipykernel package so we can avoid doing imports until\n"
     ]
    },
    {
     "data": {
      "image/png": "[encoded data removed]",
      "text/plain": [
       "<matplotlib.figure.Figure at 0x1fb54a5d2e8>"
      ]
     },
     "metadata": {},
     "output_type": "display_data"
    }
   ],
   "source": [
    "# scatter plot of BorrowerAPR vs. ProsperScore, with log transform on BorrowerAPR axis and\n",
    "# cube-root transform on ProsperScore\n",
    "LoanDataReduced['cr_ProsperScore'] = LoanDataReduced['ProsperScore'].apply(cuberoot_trans)\n",
    "\n",
    "plt.figure(figsize = [15, 6])\n",
    "plt.scatter(data = LoanDataReduced, x = 'cr_ProsperScore', y = 'BorrowerAPR', alpha = 1/10)\n",
    "\n",
    "ProsperScore_ticks = [0, 1, 2, 3, 4, 5, 6, 7, 8, 9, 10, 11]\n",
    "plt.xticks(cuberoot_trans(np.array(ProsperScore_ticks)), ProsperScore_ticks)\n",
    "plt.xlim([cuberoot_trans(.9), cuberoot_trans(11.2)])\n",
    "plt.xlabel('ProsperScore')\n",
    "\n",
    "plt.yscale('log')\n",
    "plt.yticks([0.05, 0.1, 0.2, 0.5], [0.05, 0.1, 0.2, 0.5])\n",
    "plt.ylabel('BorrowerAPR')\n",
    "\n",
    "plt.show()"
   ]
  },
  {
   "cell_type": "markdown",
   "metadata": {},
   "source": [
    "Now thanks to the cube-root transform realtionship with BorrowerAPR and ProsperScore is more clear. If you have a bad score you will pay more interest and if you have a good one you will pay less!"
   ]
  },
  {
   "cell_type": "code",
   "execution_count": 40,
   "metadata": {
    "scrolled": true
   },
   "outputs": [
    {
     "name": "stderr",
     "output_type": "stream",
     "text": [
      "C:\\Program Files (x86)\\Microsoft Visual Studio\\Shared\\Anaconda3_64\\lib\\site-packages\\ipykernel_launcher.py:10: SettingWithCopyWarning: \n",
      "A value is trying to be set on a copy of a slice from a DataFrame.\n",
      "Try using .loc[row_indexer,col_indexer] = value instead\n",
      "\n",
      "See the caveats in the documentation: http://pandas.pydata.org/pandas-docs/stable/indexing.html#indexing-view-versus-copy\n",
      "  # Remove the CWD from sys.path while we load stuff.\n"
     ]
    }
   ],
   "source": [
    "# compute the logarithm of BorrowerAPR\n",
    "\n",
    "def log_trans(x, inverse = False):\n",
    "    \"\"\" quick function for computing log and power operations \"\"\"\n",
    "    if not inverse:\n",
    "        return np.log10(x)\n",
    "    else:\n",
    "        return np.power(10, x)\n",
    "\n",
    "LoanDataReduced['log_BorrowerAPR'] = LoanDataReduced['BorrowerAPR'].apply(log_trans)"
   ]
  },
  {
   "cell_type": "code",
   "execution_count": 42,
   "metadata": {
    "scrolled": true
   },
   "outputs": [
    {
     "data": {
      "image/png": "[encoded data removed]",
      "text/plain": [
       "<matplotlib.figure.Figure at 0x1fb54994160>"
      ]
     },
     "metadata": {},
     "output_type": "display_data"
    }
   ],
   "source": [
    "# plot the categorical variables against BorrowerAPR and ProsperScore again\n",
    "\n",
    "fig, ax = plt.subplots(ncols = 2, nrows = 3 , figsize = [10,10])\n",
    "\n",
    "for i in range(len(categoric_vars)):\n",
    "    var = categoric_vars[i]\n",
    "    sb.violinplot(data = LoanDataReduced, x = var, y = 'log_BorrowerAPR', ax = ax[i,0],\n",
    "               color = default_color)\n",
    "    ax[i,0].set_yticks(log_trans(np.array([0.05, 0.1, 0.2, 0.5])))\n",
    "    ax[i,0].set_yticklabels([0.05, 0.1, 0.2, 0.5])\n",
    "    sb.violinplot(data = LoanDataReduced, x = var, y = 'cr_ProsperScore', ax = ax[i,1],\n",
    "               color = default_color)\n",
    "    ax[i,1].set_yticks(cuberoot_trans(np.array(ProsperScore_ticks)))\n",
    "    ax[i,1].set_yticklabels(ProsperScore_ticks)\n",
    "    ax[i,1].set_ylim(cuberoot_trans(np.array([0.1, 12])))\n",
    "\n",
    "plt.show()"
   ]
  },
  {
   "cell_type": "markdown",
   "metadata": {},
   "source": []
  },
  {
   "cell_type": "markdown",
   "metadata": {},
   "source": [
    "### Talk about some of the relationships you observed in this part of the investigation. How did the feature(s) of interest vary with other features in the dataset?\n",
    "\n",
    "> Your answer here!\n",
    "\n",
    "### Did you observe any interesting relationships between the other features (not the main feature(s) of interest)?\n",
    "\n",
    "> Your answer here!"
   ]
  },
  {
   "cell_type": "markdown",
   "metadata": {},
   "source": [
    "## Multivariate Exploration\n",
    "\n",
    "> Create plots of three or more variables to investigate your data even\n",
    "further. Make sure that your investigations are justified, and follow from\n",
    "your work in the previous sections."
   ]
  },
  {
   "cell_type": "code",
   "execution_count": null,
   "metadata": {
    "collapsed": true
   },
   "outputs": [],
   "source": []
  },
  {
   "cell_type": "markdown",
   "metadata": {},
   "source": [
    "### Talk about some of the relationships you observed in this part of the investigation. Were there features that strengthened each other in terms of looking at your feature(s) of interest?\n",
    "\n",
    "> Your answer here!\n",
    "\n",
    "### Were there any interesting or surprising interactions between features?\n",
    "\n",
    "> Your answer here!"
   ]
  },
  {
   "cell_type": "markdown",
   "metadata": {},
   "source": [
    "> At the end of your report, make sure that you export the notebook as an\n",
    "html file from the `File > Download as... > HTML` menu. Make sure you keep\n",
    "track of where the exported file goes, so you can put it in the same folder\n",
    "as this notebook for project submission. Also, make sure you remove all of\n",
    "the quote-formatted guide notes like this one before you finish your report!"
   ]
  },
  {
   "cell_type": "code",
   "execution_count": null,
   "metadata": {
    "collapsed": true
   },
   "outputs": [],
   "source": []
  }
 ],
 "metadata": {
  "kernelspec": {
   "display_name": "Python 3",
   "language": "python",
   "name": "python3"
  },
  "language_info": {
   "codemirror_mode": {
    "name": "ipython",
    "version": 3
   },
   "file_extension": ".py",
   "mimetype": "text/x-python",
   "name": "python",
   "nbconvert_exporter": "python",
   "pygments_lexer": "ipython3",
   "version": "3.6.2"
  }
 },
 "nbformat": 4,
 "nbformat_minor": 2
}
